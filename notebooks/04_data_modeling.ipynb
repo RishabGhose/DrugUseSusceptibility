{
 "cells": [
  {
   "cell_type": "markdown",
   "id": "c7dc158f",
   "metadata": {},
   "source": [
    "# Data Modeling\n",
    "\n",
    "It is now time to begin the actual modeling of our data to create prediction models for whether someone is susceptible to being a user of our target variables, alcohol, cocaine, and benzodiazepines. As seen in the exploration notebook, the distributions of alcohol vs the other two categories seem to be quite different. We also saw how each substance had different feature importances, and from the PCA, we saw how the users of alcohol were quite different from the other two. Because of these reasons, it may be beneficial to model each substance separately, as different models may work better or worse for different substances. Since we have already converted our target variable values to 0 (for non-user) and 1 (for user), we will need to use models well suited for binary classification. \n",
    "\n",
    "We will start with creating a prediction model for alcohol, then move on to cocaine, and lastly benzos. Let's begin by importing the necessary packages as well as our training and testing sets. "
   ]
  },
  {
   "cell_type": "code",
   "execution_count": 476,
   "id": "96dd2481",
   "metadata": {},
   "outputs": [],
   "source": [
    "import pandas as pd\n",
    "import numpy as np\n",
    "import matplotlib.pyplot as plt\n",
    "from sklearn.linear_model import LogisticRegression\n",
    "from sklearn.ensemble import RandomForestClassifier\n",
    "from sklearn.neighbors import KNeighborsClassifier\n",
    "from sklearn.svm import SVC\n",
    "from sklearn.model_selection import GridSearchCV\n",
    "from sklearn.metrics import roc_auc_score\n",
    "from sklearn.metrics import classification_report\n",
    "from sklearn.metrics import fbeta_score\n",
    "from sklearn.metrics import confusion_matrix\n",
    "from sklearn.metrics import roc_curve\n",
    "from sklearn.metrics import precision_recall_curve\n",
    "from sklearn.metrics import f1_score\n",
    "from sklearn.metrics import auc\n",
    "from sklearn.metrics import accuracy_score\n",
    "from sklearn.metrics import ConfusionMatrixDisplay"
   ]
  },
  {
   "cell_type": "code",
   "execution_count": 477,
   "id": "37509d08",
   "metadata": {},
   "outputs": [
    {
     "data": {
      "text/html": [
       "<div>\n",
       "<style scoped>\n",
       "    .dataframe tbody tr th:only-of-type {\n",
       "        vertical-align: middle;\n",
       "    }\n",
       "\n",
       "    .dataframe tbody tr th {\n",
       "        vertical-align: top;\n",
       "    }\n",
       "\n",
       "    .dataframe thead th {\n",
       "        text-align: right;\n",
       "    }\n",
       "</style>\n",
       "<table border=\"1\" class=\"dataframe\">\n",
       "  <thead>\n",
       "    <tr style=\"text-align: right;\">\n",
       "      <th></th>\n",
       "      <th>n_score</th>\n",
       "      <th>e_score</th>\n",
       "      <th>o_score</th>\n",
       "      <th>a_score</th>\n",
       "      <th>c_score</th>\n",
       "      <th>i_score</th>\n",
       "      <th>s_score</th>\n",
       "      <th>age_25-34</th>\n",
       "      <th>age_35-44</th>\n",
       "      <th>age_45-54</th>\n",
       "      <th>age_55+</th>\n",
       "      <th>gender_Female</th>\n",
       "      <th>education_Graduate Degree</th>\n",
       "      <th>education_Left School before College</th>\n",
       "      <th>education_Professional Certificate/Diploma</th>\n",
       "      <th>education_University Degree</th>\n",
       "      <th>residing_country_Other</th>\n",
       "      <th>residing_country_USA</th>\n",
       "    </tr>\n",
       "  </thead>\n",
       "  <tbody>\n",
       "    <tr>\n",
       "      <th>0</th>\n",
       "      <td>-1.208387</td>\n",
       "      <td>-1.869651</td>\n",
       "      <td>-3.005394</td>\n",
       "      <td>-1.490992</td>\n",
       "      <td>0.351938</td>\n",
       "      <td>0.573531</td>\n",
       "      <td>-2.037871</td>\n",
       "      <td>0</td>\n",
       "      <td>0</td>\n",
       "      <td>0</td>\n",
       "      <td>1</td>\n",
       "      <td>1</td>\n",
       "      <td>0</td>\n",
       "      <td>1</td>\n",
       "      <td>0</td>\n",
       "      <td>0</td>\n",
       "      <td>0</td>\n",
       "      <td>0</td>\n",
       "    </tr>\n",
       "    <tr>\n",
       "      <th>1</th>\n",
       "      <td>0.212708</td>\n",
       "      <td>1.570018</td>\n",
       "      <td>0.177548</td>\n",
       "      <td>-1.645030</td>\n",
       "      <td>-1.078167</td>\n",
       "      <td>0.573531</td>\n",
       "      <td>0.530485</td>\n",
       "      <td>0</td>\n",
       "      <td>0</td>\n",
       "      <td>0</td>\n",
       "      <td>0</td>\n",
       "      <td>0</td>\n",
       "      <td>1</td>\n",
       "      <td>0</td>\n",
       "      <td>0</td>\n",
       "      <td>0</td>\n",
       "      <td>0</td>\n",
       "      <td>1</td>\n",
       "    </tr>\n",
       "    <tr>\n",
       "      <th>2</th>\n",
       "      <td>0.977913</td>\n",
       "      <td>-0.224592</td>\n",
       "      <td>-1.641276</td>\n",
       "      <td>-0.412728</td>\n",
       "      <td>-0.220104</td>\n",
       "      <td>-0.367862</td>\n",
       "      <td>-0.203331</td>\n",
       "      <td>0</td>\n",
       "      <td>1</td>\n",
       "      <td>0</td>\n",
       "      <td>0</td>\n",
       "      <td>0</td>\n",
       "      <td>0</td>\n",
       "      <td>1</td>\n",
       "      <td>0</td>\n",
       "      <td>0</td>\n",
       "      <td>0</td>\n",
       "      <td>0</td>\n",
       "    </tr>\n",
       "    <tr>\n",
       "      <th>3</th>\n",
       "      <td>-0.989757</td>\n",
       "      <td>1.719569</td>\n",
       "      <td>0.632254</td>\n",
       "      <td>-1.336954</td>\n",
       "      <td>1.066990</td>\n",
       "      <td>0.573531</td>\n",
       "      <td>1.264301</td>\n",
       "      <td>0</td>\n",
       "      <td>0</td>\n",
       "      <td>0</td>\n",
       "      <td>0</td>\n",
       "      <td>0</td>\n",
       "      <td>0</td>\n",
       "      <td>0</td>\n",
       "      <td>0</td>\n",
       "      <td>0</td>\n",
       "      <td>0</td>\n",
       "      <td>1</td>\n",
       "    </tr>\n",
       "    <tr>\n",
       "      <th>4</th>\n",
       "      <td>1.305858</td>\n",
       "      <td>1.121366</td>\n",
       "      <td>-0.580295</td>\n",
       "      <td>-2.261180</td>\n",
       "      <td>-0.649135</td>\n",
       "      <td>1.985620</td>\n",
       "      <td>0.530485</td>\n",
       "      <td>0</td>\n",
       "      <td>0</td>\n",
       "      <td>0</td>\n",
       "      <td>0</td>\n",
       "      <td>1</td>\n",
       "      <td>0</td>\n",
       "      <td>0</td>\n",
       "      <td>0</td>\n",
       "      <td>0</td>\n",
       "      <td>0</td>\n",
       "      <td>1</td>\n",
       "    </tr>\n",
       "    <tr>\n",
       "      <th>...</th>\n",
       "      <td>...</td>\n",
       "      <td>...</td>\n",
       "      <td>...</td>\n",
       "      <td>...</td>\n",
       "      <td>...</td>\n",
       "      <td>...</td>\n",
       "      <td>...</td>\n",
       "      <td>...</td>\n",
       "      <td>...</td>\n",
       "      <td>...</td>\n",
       "      <td>...</td>\n",
       "      <td>...</td>\n",
       "      <td>...</td>\n",
       "      <td>...</td>\n",
       "      <td>...</td>\n",
       "      <td>...</td>\n",
       "      <td>...</td>\n",
       "      <td>...</td>\n",
       "    </tr>\n",
       "    <tr>\n",
       "      <th>1121</th>\n",
       "      <td>1.305858</td>\n",
       "      <td>-1.271448</td>\n",
       "      <td>-1.792845</td>\n",
       "      <td>-1.028879</td>\n",
       "      <td>-0.649135</td>\n",
       "      <td>1.985620</td>\n",
       "      <td>0.163577</td>\n",
       "      <td>0</td>\n",
       "      <td>1</td>\n",
       "      <td>0</td>\n",
       "      <td>0</td>\n",
       "      <td>0</td>\n",
       "      <td>0</td>\n",
       "      <td>0</td>\n",
       "      <td>1</td>\n",
       "      <td>0</td>\n",
       "      <td>0</td>\n",
       "      <td>0</td>\n",
       "    </tr>\n",
       "    <tr>\n",
       "      <th>1122</th>\n",
       "      <td>-1.645648</td>\n",
       "      <td>-1.121897</td>\n",
       "      <td>1.086960</td>\n",
       "      <td>-0.412728</td>\n",
       "      <td>-0.649135</td>\n",
       "      <td>-0.838559</td>\n",
       "      <td>0.163577</td>\n",
       "      <td>0</td>\n",
       "      <td>0</td>\n",
       "      <td>0</td>\n",
       "      <td>1</td>\n",
       "      <td>1</td>\n",
       "      <td>0</td>\n",
       "      <td>0</td>\n",
       "      <td>0</td>\n",
       "      <td>1</td>\n",
       "      <td>1</td>\n",
       "      <td>0</td>\n",
       "    </tr>\n",
       "    <tr>\n",
       "      <th>1123</th>\n",
       "      <td>0.540653</td>\n",
       "      <td>-0.075041</td>\n",
       "      <td>0.329117</td>\n",
       "      <td>0.049385</td>\n",
       "      <td>-0.935156</td>\n",
       "      <td>0.573531</td>\n",
       "      <td>0.530485</td>\n",
       "      <td>0</td>\n",
       "      <td>0</td>\n",
       "      <td>0</td>\n",
       "      <td>0</td>\n",
       "      <td>0</td>\n",
       "      <td>0</td>\n",
       "      <td>0</td>\n",
       "      <td>0</td>\n",
       "      <td>0</td>\n",
       "      <td>0</td>\n",
       "      <td>0</td>\n",
       "    </tr>\n",
       "    <tr>\n",
       "      <th>1124</th>\n",
       "      <td>-0.115237</td>\n",
       "      <td>1.121366</td>\n",
       "      <td>0.935391</td>\n",
       "      <td>0.203423</td>\n",
       "      <td>0.065917</td>\n",
       "      <td>0.573531</td>\n",
       "      <td>0.163577</td>\n",
       "      <td>1</td>\n",
       "      <td>0</td>\n",
       "      <td>0</td>\n",
       "      <td>0</td>\n",
       "      <td>1</td>\n",
       "      <td>0</td>\n",
       "      <td>0</td>\n",
       "      <td>0</td>\n",
       "      <td>1</td>\n",
       "      <td>0</td>\n",
       "      <td>0</td>\n",
       "    </tr>\n",
       "    <tr>\n",
       "      <th>1125</th>\n",
       "      <td>-1.536333</td>\n",
       "      <td>-1.121897</td>\n",
       "      <td>-2.550688</td>\n",
       "      <td>-0.874841</td>\n",
       "      <td>-0.649135</td>\n",
       "      <td>-1.309255</td>\n",
       "      <td>-2.037871</td>\n",
       "      <td>0</td>\n",
       "      <td>0</td>\n",
       "      <td>0</td>\n",
       "      <td>1</td>\n",
       "      <td>0</td>\n",
       "      <td>0</td>\n",
       "      <td>1</td>\n",
       "      <td>0</td>\n",
       "      <td>0</td>\n",
       "      <td>0</td>\n",
       "      <td>0</td>\n",
       "    </tr>\n",
       "  </tbody>\n",
       "</table>\n",
       "<p>1126 rows × 18 columns</p>\n",
       "</div>"
      ],
      "text/plain": [
       "       n_score   e_score   o_score   a_score   c_score   i_score   s_score  \\\n",
       "0    -1.208387 -1.869651 -3.005394 -1.490992  0.351938  0.573531 -2.037871   \n",
       "1     0.212708  1.570018  0.177548 -1.645030 -1.078167  0.573531  0.530485   \n",
       "2     0.977913 -0.224592 -1.641276 -0.412728 -0.220104 -0.367862 -0.203331   \n",
       "3    -0.989757  1.719569  0.632254 -1.336954  1.066990  0.573531  1.264301   \n",
       "4     1.305858  1.121366 -0.580295 -2.261180 -0.649135  1.985620  0.530485   \n",
       "...        ...       ...       ...       ...       ...       ...       ...   \n",
       "1121  1.305858 -1.271448 -1.792845 -1.028879 -0.649135  1.985620  0.163577   \n",
       "1122 -1.645648 -1.121897  1.086960 -0.412728 -0.649135 -0.838559  0.163577   \n",
       "1123  0.540653 -0.075041  0.329117  0.049385 -0.935156  0.573531  0.530485   \n",
       "1124 -0.115237  1.121366  0.935391  0.203423  0.065917  0.573531  0.163577   \n",
       "1125 -1.536333 -1.121897 -2.550688 -0.874841 -0.649135 -1.309255 -2.037871   \n",
       "\n",
       "      age_25-34  age_35-44  age_45-54  age_55+  gender_Female  \\\n",
       "0             0          0          0        1              1   \n",
       "1             0          0          0        0              0   \n",
       "2             0          1          0        0              0   \n",
       "3             0          0          0        0              0   \n",
       "4             0          0          0        0              1   \n",
       "...         ...        ...        ...      ...            ...   \n",
       "1121          0          1          0        0              0   \n",
       "1122          0          0          0        1              1   \n",
       "1123          0          0          0        0              0   \n",
       "1124          1          0          0        0              1   \n",
       "1125          0          0          0        1              0   \n",
       "\n",
       "      education_Graduate Degree  education_Left School before College  \\\n",
       "0                             0                                     1   \n",
       "1                             1                                     0   \n",
       "2                             0                                     1   \n",
       "3                             0                                     0   \n",
       "4                             0                                     0   \n",
       "...                         ...                                   ...   \n",
       "1121                          0                                     0   \n",
       "1122                          0                                     0   \n",
       "1123                          0                                     0   \n",
       "1124                          0                                     0   \n",
       "1125                          0                                     1   \n",
       "\n",
       "      education_Professional Certificate/Diploma  education_University Degree  \\\n",
       "0                                              0                            0   \n",
       "1                                              0                            0   \n",
       "2                                              0                            0   \n",
       "3                                              0                            0   \n",
       "4                                              0                            0   \n",
       "...                                          ...                          ...   \n",
       "1121                                           1                            0   \n",
       "1122                                           0                            1   \n",
       "1123                                           0                            0   \n",
       "1124                                           0                            1   \n",
       "1125                                           0                            0   \n",
       "\n",
       "      residing_country_Other  residing_country_USA  \n",
       "0                          0                     0  \n",
       "1                          0                     1  \n",
       "2                          0                     0  \n",
       "3                          0                     1  \n",
       "4                          0                     1  \n",
       "...                      ...                   ...  \n",
       "1121                       0                     0  \n",
       "1122                       1                     0  \n",
       "1123                       0                     0  \n",
       "1124                       0                     0  \n",
       "1125                       0                     0  \n",
       "\n",
       "[1126 rows x 18 columns]"
      ]
     },
     "execution_count": 477,
     "metadata": {},
     "output_type": "execute_result"
    }
   ],
   "source": [
    "X_train = pd.read_csv(\"../data/X_train.csv\", index_col=0)\n",
    "y_train = pd.read_csv(\"../data/y_train.csv\", index_col=0)\n",
    "X_test = pd.read_csv(\"../data/X_test.csv\", index_col=0)\n",
    "y_test = pd.read_csv(\"../data/y_test.csv\", index_col=0)\n",
    "X_train"
   ]
  },
  {
   "cell_type": "markdown",
   "id": "43a692be",
   "metadata": {},
   "source": [
    "## Alcohol Use - Prediction Model\n",
    "\n",
    "### Logistic Regression"
   ]
  },
  {
   "cell_type": "markdown",
   "id": "f31403cd",
   "metadata": {},
   "source": [
    "Let's start with Logistic Regression as our first model to predict alcohol use. Logistic Regression takes a regularization parameter C. We will use GridSearchCV to determine the C value that gives the best value. Let's first train and test the model without any hyperparameter tuning to see how it performs. Our evaluation metric going forward will be the ROC AUC Score. "
   ]
  },
  {
   "cell_type": "code",
   "execution_count": 478,
   "id": "4f61f369",
   "metadata": {},
   "outputs": [
    {
     "data": {
      "text/plain": [
       "0.6433631167994849"
      ]
     },
     "execution_count": 478,
     "metadata": {},
     "output_type": "execute_result"
    }
   ],
   "source": [
    "#Initialize the Logistic Regression Classifier\n",
    "lr = LogisticRegression()\n",
    "#fit the model to the training data\n",
    "lr.fit(X_train, y_train.alcohol)\n",
    "#Predict target variable using the test set and evaluate using roc_auc score\n",
    "y_pred = lr.predict_proba(X_test)[:,1]\n",
    "roc_auc_score(y_test.alcohol, y_pred)"
   ]
  },
  {
   "cell_type": "markdown",
   "id": "792ee126",
   "metadata": {},
   "source": [
    "Without any hyperparameter tuning, we get a roc_auc score of about 0.5832. Let's see if we can do better by tuning the regularization parameter. "
   ]
  },
  {
   "cell_type": "code",
   "execution_count": 479,
   "id": "e41a03a5",
   "metadata": {},
   "outputs": [
    {
     "name": "stdout",
     "output_type": "stream",
     "text": [
      "Best parameters:  {'C': 100}\n",
      "Best score:  0.6242547313782936\n"
     ]
    }
   ],
   "source": [
    "#Initialize the Logistic Regression Classifier\n",
    "lr = LogisticRegression()\n",
    "\n",
    "#Define set of C values to test\n",
    "params_lr = {'C': [0.0001, 0.001, 0.1, 1, 10, 100]} \n",
    "\n",
    "#Use GridSearchCV, with roc_auc as the scoring guideline\n",
    "gs_lr_alc = GridSearchCV(lr, param_grid=params_lr, scoring='roc_auc', cv=5)\n",
    "gs_lr_alc.fit(X_train, y_train.alcohol)\n",
    "\n",
    "print('Best parameters: ', gs_lr_alc.best_params_)\n",
    "print('Best score: ', gs_lr_alc.best_score_ ) "
   ]
  },
  {
   "cell_type": "markdown",
   "id": "1717d482",
   "metadata": {},
   "source": [
    "We see the best regularization parameter is 1, giving an roc_auc score of about 0.6446. This C value is the same as the default used previously, so we will get the same roc_auc value as before, see below. "
   ]
  },
  {
   "cell_type": "code",
   "execution_count": 480,
   "id": "80b52dda",
   "metadata": {},
   "outputs": [
    {
     "data": {
      "text/plain": [
       "0.643113579650648"
      ]
     },
     "execution_count": 480,
     "metadata": {},
     "output_type": "execute_result"
    }
   ],
   "source": [
    "#Initialize new LogisticRegression object, using the optimal C-vlaue\n",
    "lr_alc = LogisticRegression(C = gs_lr_alc.best_params_['C'])\n",
    "lr_alc.fit(X_train, y_train.alcohol)\n",
    "y_pred_lr_alc = lr_alc.predict_proba(X_test)[:,1]\n",
    "\n",
    "roc_auc_score(y_test.alcohol, y_pred_lr_alc)"
   ]
  },
  {
   "cell_type": "markdown",
   "id": "17e9d2e8",
   "metadata": {},
   "source": [
    "Let's move on to a random forest model to see if we can do better. "
   ]
  },
  {
   "cell_type": "markdown",
   "id": "d3ab254e",
   "metadata": {},
   "source": [
    "### Random Forest"
   ]
  },
  {
   "cell_type": "markdown",
   "id": "428521fa",
   "metadata": {},
   "source": [
    "Like before, let's start by training a RF model without any hyperparameter tuning to see how it performs. "
   ]
  },
  {
   "cell_type": "code",
   "execution_count": 481,
   "id": "6734c0b4",
   "metadata": {},
   "outputs": [
    {
     "data": {
      "text/plain": [
       "0.614509377767045"
      ]
     },
     "execution_count": 481,
     "metadata": {},
     "output_type": "execute_result"
    }
   ],
   "source": [
    "#Initialize the Random Forest Classifier\n",
    "rfc = RandomForestClassifier(random_state = 21)\n",
    "#fit the model to the training data\n",
    "rfc.fit(X_train, y_train.alcohol)\n",
    "#Predict target variable using the test set and evaluate using roc_auc score\n",
    "y_pred = rfc.predict_proba(X_test)[:,1]\n",
    "roc_auc_score(y_test.alcohol, y_pred)"
   ]
  },
  {
   "cell_type": "markdown",
   "id": "fffda843",
   "metadata": {},
   "source": [
    "This performs slightly worse than the Logistic Regression model with all default hyperparameters. "
   ]
  },
  {
   "cell_type": "markdown",
   "id": "cc5ff873",
   "metadata": {},
   "source": [
    "For Random Forest, there are several different hyperparameters that can be tuned to optimize our model with scikit-learn. We will focus on tuning n_estimators (the number of trees), max_features (max number of features to consider at every split), max_depth (max number of levels allowed in each tree), min_samples_split (minimum sample number to split a node), min_samples_leaf (minimum sample number that can be stored in a leaf node), and bootstrap (the method for sampling the data points). "
   ]
  },
  {
   "cell_type": "code",
   "execution_count": 482,
   "id": "5571847b",
   "metadata": {},
   "outputs": [],
   "source": [
    "#set the values for hyperparameters that we want to test\n",
    "n_estimators = [20,50,100] \n",
    "max_features = ['auto', 'sqrt'] \n",
    "max_depth = [int(x) for x in np.linspace(10, 120, num = 12)]\n",
    "min_samples_split = [2, 6, 10] \n",
    "min_samples_leaf = [1, 3, 4]\n",
    "bootstrap = [True, False]"
   ]
  },
  {
   "cell_type": "code",
   "execution_count": 483,
   "id": "9153ad82",
   "metadata": {},
   "outputs": [],
   "source": [
    "#set the parameter grid\n",
    "params_rfc = {'n_estimators': n_estimators,\n",
    "               'max_features': max_features,\n",
    "               'max_depth': max_depth,\n",
    "               'min_samples_split': min_samples_split,\n",
    "               'min_samples_leaf': min_samples_leaf,\n",
    "               'bootstrap': bootstrap}"
   ]
  },
  {
   "cell_type": "code",
   "execution_count": 484,
   "id": "e73a6a17",
   "metadata": {},
   "outputs": [
    {
     "data": {
      "text/plain": [
       "GridSearchCV(cv=3, estimator=RandomForestClassifier(),\n",
       "             param_grid={'bootstrap': [True, False],\n",
       "                         'max_depth': [10, 20, 30, 40, 50, 60, 70, 80, 90, 100,\n",
       "                                       110, 120],\n",
       "                         'max_features': ['auto', 'sqrt'],\n",
       "                         'min_samples_leaf': [1, 3, 4],\n",
       "                         'min_samples_split': [2, 6, 10],\n",
       "                         'n_estimators': [20, 50, 100]},\n",
       "             scoring='roc_auc')"
      ]
     },
     "execution_count": 484,
     "metadata": {},
     "output_type": "execute_result"
    }
   ],
   "source": [
    "#Use grid search to find the best parameters\n",
    "rfc = RandomForestClassifier()\n",
    "gs_rfc_alc = GridSearchCV(rfc, param_grid=params_rfc, scoring='roc_auc', cv=3)\n",
    "gs_rfc_alc.fit(X_train, y_train.alcohol)"
   ]
  },
  {
   "cell_type": "code",
   "execution_count": 485,
   "id": "c2ef34ea",
   "metadata": {},
   "outputs": [
    {
     "data": {
      "text/plain": [
       "{'bootstrap': True,\n",
       " 'max_depth': 90,\n",
       " 'max_features': 'auto',\n",
       " 'min_samples_leaf': 3,\n",
       " 'min_samples_split': 2,\n",
       " 'n_estimators': 50}"
      ]
     },
     "execution_count": 485,
     "metadata": {},
     "output_type": "execute_result"
    }
   ],
   "source": [
    "gs_rfc_alc.best_params_"
   ]
  },
  {
   "cell_type": "code",
   "execution_count": 486,
   "id": "beedcf69",
   "metadata": {},
   "outputs": [
    {
     "data": {
      "text/plain": [
       "0.628720920872575"
      ]
     },
     "execution_count": 486,
     "metadata": {},
     "output_type": "execute_result"
    }
   ],
   "source": [
    "rfc_alc = RandomForestClassifier(bootstrap = gs_rfc_alc.best_params_['bootstrap'], \n",
    "                              max_depth = gs_rfc_alc.best_params_['max_depth'], \n",
    "                              max_features = gs_rfc_alc.best_params_['max_features'], \n",
    "                              min_samples_leaf = gs_rfc_alc.best_params_['min_samples_leaf'],\n",
    "                              min_samples_split = gs_rfc_alc.best_params_['min_samples_split'], \n",
    "                              n_estimators = gs_rfc_alc.best_params_['n_estimators'], \n",
    "                              random_state = 21)\n",
    "rfc_alc.fit(X_train, y_train.alcohol)\n",
    "y_pred_rfc_alc = rfc_alc.predict_proba(X_test)[:,1]\n",
    "\n",
    "roc_auc_score(y_test.alcohol, y_pred_rfc_alc)"
   ]
  },
  {
   "cell_type": "markdown",
   "id": "b1d27dad",
   "metadata": {},
   "source": [
    "We see the model improved a little bit with hyperparamter tuning, but not by much. Also, this is just slightly above the performance of the logistic regression model, but took much longer to run. Because of this computing time, logistic regression still seems to be our best model. "
   ]
  },
  {
   "cell_type": "markdown",
   "id": "9274fe54",
   "metadata": {},
   "source": [
    "### K-Nearest Neighbors\n",
    "\n",
    "The last model we will test for alcohol use prediction is a Knn model. As before, we will first test without hyperparameter tuning. "
   ]
  },
  {
   "cell_type": "code",
   "execution_count": 487,
   "id": "dbcb55c1",
   "metadata": {},
   "outputs": [
    {
     "data": {
      "text/plain": [
       "0.5671174434516623"
      ]
     },
     "execution_count": 487,
     "metadata": {},
     "output_type": "execute_result"
    }
   ],
   "source": [
    "knn = KNeighborsClassifier()\n",
    "knn.fit(X_train, y_train.alcohol)\n",
    "y_pred = knn.predict_proba(X_test)[:,1]\n",
    "roc_auc_score(y_test.alcohol, y_pred)"
   ]
  },
  {
   "cell_type": "markdown",
   "id": "cae586b1",
   "metadata": {},
   "source": [
    "The default k value is 5. We will now try using GridSearch to test k-values between 1 and 50. "
   ]
  },
  {
   "cell_type": "code",
   "execution_count": 488,
   "id": "08c8e9a9",
   "metadata": {},
   "outputs": [
    {
     "data": {
      "text/plain": [
       "GridSearchCV(cv=5, estimator=KNeighborsClassifier(),\n",
       "             param_grid={'n_neighbors': array([ 1,  2,  3,  4,  5,  6,  7,  8,  9, 10, 11, 12, 13, 14, 15, 16, 17,\n",
       "       18, 19, 20, 21, 22, 23, 24, 25, 26, 27, 28, 29, 30, 31, 32, 33, 34,\n",
       "       35, 36, 37, 38, 39, 40, 41, 42, 43, 44, 45, 46, 47, 48, 49])})"
      ]
     },
     "execution_count": 488,
     "metadata": {},
     "output_type": "execute_result"
    }
   ],
   "source": [
    "#create new a knn model\n",
    "knn = KNeighborsClassifier()\n",
    "#create a dictionary of all values we want to test for n_neighbors\n",
    "param_grid = {'n_neighbors': np.arange(1, 50)}\n",
    "#use gridsearch to test all values for n_neighbors\n",
    "gs_knn_alc = GridSearchCV(knn, param_grid, cv=5)\n",
    "#fit model to data\n",
    "gs_knn_alc.fit(X_train, y_train.alcohol)"
   ]
  },
  {
   "cell_type": "code",
   "execution_count": 489,
   "id": "c7506199",
   "metadata": {},
   "outputs": [
    {
     "data": {
      "text/plain": [
       "{'n_neighbors': 47}"
      ]
     },
     "execution_count": 489,
     "metadata": {},
     "output_type": "execute_result"
    }
   ],
   "source": [
    "gs_knn_alc.best_params_"
   ]
  },
  {
   "cell_type": "code",
   "execution_count": 490,
   "id": "b1ce0050",
   "metadata": {},
   "outputs": [
    {
     "data": {
      "text/plain": [
       "0.5741487563390486"
      ]
     },
     "execution_count": 490,
     "metadata": {},
     "output_type": "execute_result"
    }
   ],
   "source": [
    "knn_alc = KNeighborsClassifier(n_neighbors=gs_knn_alc.best_params_['n_neighbors'])\n",
    "knn_alc.fit(X_train, y_train.alcohol)\n",
    "y_pred_knn_alc = knn_alc.predict_proba(X_test)[:,1]\n",
    "roc_auc_score(y_test.alcohol, y_pred_knn_alc)"
   ]
  },
  {
   "cell_type": "markdown",
   "id": "3a238a3e",
   "metadata": {},
   "source": [
    "### Final Model for Alcohol"
   ]
  },
  {
   "cell_type": "markdown",
   "id": "02152029",
   "metadata": {},
   "source": [
    "None of the models we have tried have performed well for alcohol, which makes some sense as it would be quite hard to predict who is more likely to abuse a substance as widely and frequently used as alcohol is. People with all sorts of personality types, from all age groups and education levels, and from all over the world consume alcohol somewhat regularly so it would be difficult to create a prediction model without further data collection on the individuals and their lifestyle/habits. Let us look more closely at the performance of our random forest model, which seemed to perform the best out of the three models we tried. "
   ]
  },
  {
   "cell_type": "code",
   "execution_count": 491,
   "id": "904169ff",
   "metadata": {},
   "outputs": [],
   "source": [
    "#Defining a function that returns precision recall and f_beta score\n",
    "#We will plot them against different thresholds\n",
    "\n",
    "def precision_recall(model, X_test, y_test, threshold, beta = 1):\n",
    "    \n",
    "    y_pred = (model.predict_proba(X_test)[:,1] >= threshold).astype(bool)\n",
    "    matrix = confusion_matrix(y_test, y_pred)\n",
    "    \n",
    "    #print(threshold,'\\n', matrix)\n",
    "    \n",
    "    tn = matrix[0,0] # Respondents predicted to be non-users and were non-users\n",
    "    tp = matrix[1,1] # Respondents predicted to be users and were users\n",
    "    fp = matrix[0,1] # Respondents predicted to be users and were non-users\n",
    "    fn = matrix[1,0] # Respondents predicted to be non-users and were users\n",
    "    \n",
    "    precision = tp/(tp+fp)\n",
    "    recall = tp/(tp+fn)\n",
    "    #fdr = fp/(fp+tp)\n",
    "    #f_beta = fbeta_score(y_test, y_pred, beta=beta)\n",
    "    \n",
    "    return([precision, recall])"
   ]
  },
  {
   "cell_type": "code",
   "execution_count": 492,
   "id": "df40d2b5",
   "metadata": {},
   "outputs": [],
   "source": [
    "threshold_df_alc = pd.DataFrame(columns=['Precision','Recall'])\n",
    "\n",
    "for threshold in sorted(set(lr_alc.predict_proba(X_test)[:,1])):\n",
    "    threshold_df_alc.loc[threshold] = precision_recall(lr_alc, X_test, y_test.alcohol, threshold)"
   ]
  },
  {
   "cell_type": "code",
   "execution_count": 493,
   "id": "3c409459",
   "metadata": {},
   "outputs": [
    {
     "data": {
      "text/plain": [
       "Text(0.48, 0.55, 'Optimal Threshold')"
      ]
     },
     "execution_count": 493,
     "metadata": {},
     "output_type": "execute_result"
    },
    {
     "data": {
      "image/png": "[encoded data removed]",
      "text/plain": [
       "<Figure size 1080x648 with 1 Axes>"
      ]
     },
     "metadata": {
      "needs_background": "light"
     },
     "output_type": "display_data"
    }
   ],
   "source": [
    "ax = threshold_df_alc.plot(figsize=(15,9))\n",
    "ax.set_xlabel('Threshold')\n",
    "ax.set_title('Precision-Recall vs. Threshold')\n",
    "ax.axvline(0.5, color='black', alpha=0.3)\n",
    "ax.text(.48,.55,'Optimal Threshold',rotation=90, alpha=0.8, fontsize=14)"
   ]
  },
  {
   "cell_type": "markdown",
   "id": "01bdac44",
   "metadata": {},
   "source": [
    "In this business case, we would rather maximize recall than precision. So, o get a precision of at least 0.70 while maximizing recall, we will choose a threshold of 0.5. "
   ]
  },
  {
   "cell_type": "code",
   "execution_count": 494,
   "id": "61095a80",
   "metadata": {},
   "outputs": [
    {
     "data": {
      "image/png": "[encoded data removed]",
      "text/plain": [
       "<Figure size 432x288 with 2 Axes>"
      ]
     },
     "metadata": {
      "needs_background": "light"
     },
     "output_type": "display_data"
    }
   ],
   "source": [
    "cm = confusion_matrix(y_test.alcohol, lr_alc.predict_proba(X_test)[:,1] > .5)\n",
    "disp = ConfusionMatrixDisplay(confusion_matrix=cm)\n",
    "disp.plot()\n",
    "plt.show()"
   ]
  },
  {
   "cell_type": "code",
   "execution_count": 495,
   "id": "cad80b7f",
   "metadata": {},
   "outputs": [
    {
     "name": "stdout",
     "output_type": "stream",
     "text": [
      "              precision    recall  f1-score   support\n",
      "\n",
      "           0       0.52      0.18      0.27       246\n",
      "           1       0.70      0.92      0.79       505\n",
      "\n",
      "    accuracy                           0.68       751\n",
      "   macro avg       0.61      0.55      0.53       751\n",
      "weighted avg       0.64      0.68      0.62       751\n",
      "\n"
     ]
    }
   ],
   "source": [
    "print(classification_report(y_test.alcohol, lr_alc.predict_proba(X_test)[:,1] > .50))"
   ]
  },
  {
   "cell_type": "markdown",
   "id": "5d5b354c",
   "metadata": {},
   "source": [
    "## Cocaine Use - Prediction Model\n",
    "\n",
    "We will largely follow the same process as with alcohol, using logistic regression, random forest, and knn models and deciding which performs best at the end based off of ROC AUC Scores. \n",
    "\n",
    "### Logistic Regression"
   ]
  },
  {
   "cell_type": "code",
   "execution_count": 496,
   "id": "58fe4e94",
   "metadata": {},
   "outputs": [
    {
     "data": {
      "text/plain": [
       "0.7695191020492225"
      ]
     },
     "execution_count": 496,
     "metadata": {},
     "output_type": "execute_result"
    }
   ],
   "source": [
    "#Initialize the Logistic Regression Classifier\n",
    "lr = LogisticRegression()\n",
    "#fit the model to the training data\n",
    "lr.fit(X_train, y_train.cocaine)\n",
    "#Predict target variable using the test set and evaluate using roc_auc score\n",
    "y_pred = lr.predict_proba(X_test)[:,1]\n",
    "roc_auc_score(y_test.cocaine, y_pred)"
   ]
  },
  {
   "cell_type": "code",
   "execution_count": 497,
   "id": "e1838b8e",
   "metadata": {},
   "outputs": [
    {
     "name": "stdout",
     "output_type": "stream",
     "text": [
      "Best parameters:  {'C': 0.1}\n",
      "Best score:  0.7628739888682745\n"
     ]
    }
   ],
   "source": [
    "#Initialize the Logistic Regression Classifier\n",
    "lr = LogisticRegression()\n",
    "\n",
    "#Define set of C values to test\n",
    "params_lr = {'C': [0.0001, 0.001, 0.1, 1, 10, 100]} \n",
    "\n",
    "#Use GridSearchCV, with roc_auc as the scoring guideline\n",
    "gs_lr_coc = GridSearchCV(lr, param_grid=params_lr, scoring='roc_auc', cv=5)\n",
    "gs_lr_coc.fit(X_train, y_train.cocaine)\n",
    "\n",
    "print('Best parameters: ', gs_lr_coc.best_params_)\n",
    "print('Best score: ', gs_lr_coc.best_score_ ) "
   ]
  },
  {
   "cell_type": "code",
   "execution_count": 498,
   "id": "41ecf6ed",
   "metadata": {},
   "outputs": [
    {
     "data": {
      "text/plain": [
       "0.7693543404386777"
      ]
     },
     "execution_count": 498,
     "metadata": {},
     "output_type": "execute_result"
    }
   ],
   "source": [
    "#Initialize new LogisticRegression object, using the optimal C-vlaue\n",
    "lr_coc = LogisticRegression(C = gs_lr_coc.best_params_['C'])\n",
    "lr_coc.fit(X_train, y_train.cocaine)\n",
    "y_pred_lr_coc = lr_coc.predict_proba(X_test)[:,1]\n",
    "\n",
    "roc_auc_score(y_test.cocaine, y_pred_lr_coc)"
   ]
  },
  {
   "cell_type": "markdown",
   "id": "6a91b333",
   "metadata": {},
   "source": [
    "### Random Forest"
   ]
  },
  {
   "cell_type": "code",
   "execution_count": 499,
   "id": "520c7ab0",
   "metadata": {},
   "outputs": [
    {
     "data": {
      "text/plain": [
       "0.7416383482648542"
      ]
     },
     "execution_count": 499,
     "metadata": {},
     "output_type": "execute_result"
    }
   ],
   "source": [
    "#Initialize the Random Forest Classifier\n",
    "rfc = RandomForestClassifier(random_state = 21)\n",
    "#fit the model to the training data\n",
    "rfc.fit(X_train, y_train.cocaine)\n",
    "#Predict target variable using the test set and evaluate using roc_auc score\n",
    "y_pred = rfc.predict_proba(X_test)[:,1]\n",
    "roc_auc_score(y_test.cocaine, y_pred)"
   ]
  },
  {
   "cell_type": "code",
   "execution_count": 500,
   "id": "c21d73e4",
   "metadata": {},
   "outputs": [
    {
     "data": {
      "text/plain": [
       "GridSearchCV(cv=3, estimator=RandomForestClassifier(),\n",
       "             param_grid={'bootstrap': [True, False],\n",
       "                         'max_depth': [10, 20, 30, 40, 50, 60, 70, 80, 90, 100,\n",
       "                                       110, 120],\n",
       "                         'max_features': ['auto', 'sqrt'],\n",
       "                         'min_samples_leaf': [1, 3, 4],\n",
       "                         'min_samples_split': [2, 6, 10],\n",
       "                         'n_estimators': [20, 50, 100]},\n",
       "             scoring='roc_auc')"
      ]
     },
     "execution_count": 500,
     "metadata": {},
     "output_type": "execute_result"
    }
   ],
   "source": [
    "rfc = RandomForestClassifier()\n",
    "gs_rfc_coc = GridSearchCV(rfc, param_grid=params_rfc, scoring='roc_auc', cv=3)\n",
    "gs_rfc_coc.fit(X_train, y_train.cocaine)"
   ]
  },
  {
   "cell_type": "code",
   "execution_count": 501,
   "id": "ba39d0b5",
   "metadata": {},
   "outputs": [
    {
     "data": {
      "text/plain": [
       "{'bootstrap': True,\n",
       " 'max_depth': 10,\n",
       " 'max_features': 'sqrt',\n",
       " 'min_samples_leaf': 4,\n",
       " 'min_samples_split': 6,\n",
       " 'n_estimators': 100}"
      ]
     },
     "execution_count": 501,
     "metadata": {},
     "output_type": "execute_result"
    }
   ],
   "source": [
    "gs_rfc_coc.best_params_"
   ]
  },
  {
   "cell_type": "code",
   "execution_count": 502,
   "id": "1d766eff",
   "metadata": {},
   "outputs": [
    {
     "data": {
      "text/plain": [
       "0.7487591391205849"
      ]
     },
     "execution_count": 502,
     "metadata": {},
     "output_type": "execute_result"
    }
   ],
   "source": [
    "rfc_coc = RandomForestClassifier(bootstrap = gs_rfc_coc.best_params_['bootstrap'], \n",
    "                                 max_depth = gs_rfc_coc.best_params_['max_depth'], \n",
    "                                 max_features = gs_rfc_coc.best_params_['max_features'], \n",
    "                                 min_samples_leaf = gs_rfc_coc.best_params_['min_samples_leaf'],\n",
    "                                 min_samples_split = gs_rfc_coc.best_params_['min_samples_split'], \n",
    "                                 n_estimators = gs_rfc_coc.best_params_['n_estimators'], \n",
    "                                 random_state = 21)\n",
    "rfc_coc.fit(X_train, y_train.cocaine)\n",
    "y_pred_rfc_coc = rfc_coc.predict_proba(X_test)[:,1]\n",
    "\n",
    "roc_auc_score(y_test.cocaine, y_pred_rfc_coc)"
   ]
  },
  {
   "cell_type": "markdown",
   "id": "2bf70815",
   "metadata": {},
   "source": [
    "### K-Nearest Neighbors"
   ]
  },
  {
   "cell_type": "code",
   "execution_count": 503,
   "id": "da9110e7",
   "metadata": {},
   "outputs": [
    {
     "data": {
      "text/plain": [
       "0.7129337864277623"
      ]
     },
     "execution_count": 503,
     "metadata": {},
     "output_type": "execute_result"
    }
   ],
   "source": [
    "knn = KNeighborsClassifier()\n",
    "knn.fit(X_train, y_train.cocaine)\n",
    "y_pred = knn.predict_proba(X_test)[:,1]\n",
    "roc_auc_score(y_test.cocaine, y_pred)"
   ]
  },
  {
   "cell_type": "code",
   "execution_count": 504,
   "id": "459d4bf6",
   "metadata": {},
   "outputs": [
    {
     "data": {
      "text/plain": [
       "GridSearchCV(cv=5, estimator=KNeighborsClassifier(),\n",
       "             param_grid={'n_neighbors': array([ 1,  2,  3,  4,  5,  6,  7,  8,  9, 10, 11, 12, 13, 14, 15, 16, 17,\n",
       "       18, 19, 20, 21, 22, 23, 24, 25, 26, 27, 28, 29, 30, 31, 32, 33, 34,\n",
       "       35, 36, 37, 38, 39, 40, 41, 42, 43, 44, 45, 46, 47, 48, 49])})"
      ]
     },
     "execution_count": 504,
     "metadata": {},
     "output_type": "execute_result"
    }
   ],
   "source": [
    "#create new a knn model\n",
    "knn = KNeighborsClassifier()\n",
    "#create a dictionary of all values we want to test for n_neighbors\n",
    "param_grid = {'n_neighbors': np.arange(1, 50)}\n",
    "#use gridsearch to test all values for n_neighbors\n",
    "gs_knn_coc = GridSearchCV(knn, param_grid, cv=5)\n",
    "#fit model to data\n",
    "gs_knn_coc.fit(X_train, y_train.cocaine)"
   ]
  },
  {
   "cell_type": "code",
   "execution_count": 505,
   "id": "67dfb835",
   "metadata": {},
   "outputs": [
    {
     "data": {
      "text/plain": [
       "{'n_neighbors': 10}"
      ]
     },
     "execution_count": 505,
     "metadata": {},
     "output_type": "execute_result"
    }
   ],
   "source": [
    "gs_knn_coc.best_params_"
   ]
  },
  {
   "cell_type": "code",
   "execution_count": 506,
   "id": "492df7c5",
   "metadata": {},
   "outputs": [
    {
     "data": {
      "text/plain": [
       "0.7370559159715786"
      ]
     },
     "execution_count": 506,
     "metadata": {},
     "output_type": "execute_result"
    }
   ],
   "source": [
    "knn_coc = KNeighborsClassifier(n_neighbors=gs_knn_coc.best_params_['n_neighbors'])\n",
    "knn_coc.fit(X_train, y_train.cocaine)\n",
    "y_pred_knn_coc = knn_coc.predict_proba(X_test)[:,1]\n",
    "roc_auc_score(y_test.cocaine, y_pred_knn_coc)"
   ]
  },
  {
   "cell_type": "markdown",
   "id": "3983becb",
   "metadata": {},
   "source": [
    "### Cocaine Final Model"
   ]
  },
  {
   "cell_type": "code",
   "execution_count": 507,
   "id": "e36f9b2f",
   "metadata": {},
   "outputs": [],
   "source": [
    "threshold_df_coc = pd.DataFrame(columns=['Precision','Recall'])\n",
    "\n",
    "for threshold in sorted(set(lr_coc.predict_proba(X_test)[:,1])):\n",
    "    threshold_df_coc.loc[threshold] = precision_recall(lr_coc, X_test, y_test.cocaine, threshold)"
   ]
  },
  {
   "cell_type": "code",
   "execution_count": 508,
   "id": "e47a3aa8",
   "metadata": {},
   "outputs": [
    {
     "data": {
      "text/plain": [
       "Text(0.21, 0.6, 'Optimal Threshold')"
      ]
     },
     "execution_count": 508,
     "metadata": {},
     "output_type": "execute_result"
    },
    {
     "data": {
      "image/png": "[encoded data removed]",
      "text/plain": [
       "<Figure size 1080x648 with 1 Axes>"
      ]
     },
     "metadata": {
      "needs_background": "light"
     },
     "output_type": "display_data"
    }
   ],
   "source": [
    "ax = threshold_df_coc.plot(figsize=(15,9))\n",
    "ax.set_xlabel('Threshold')\n",
    "ax.set_title('Precision-Recall vs. Threshold')\n",
    "ax.axvline(0.23, color='black', alpha=0.3)\n",
    "ax.text(.21,.60,'Optimal Threshold',rotation=90, alpha=0.8, fontsize=14)"
   ]
  },
  {
   "cell_type": "markdown",
   "id": "5ee5eeae",
   "metadata": {},
   "source": [
    "To get a precision of at least 0.4 while maximizing recall, we will choose an optimal threshold of 0.23. "
   ]
  },
  {
   "cell_type": "code",
   "execution_count": 509,
   "id": "10917bff",
   "metadata": {},
   "outputs": [
    {
     "data": {
      "image/png": "[encoded data removed]",
      "text/plain": [
       "<Figure size 432x288 with 2 Axes>"
      ]
     },
     "metadata": {
      "needs_background": "light"
     },
     "output_type": "display_data"
    }
   ],
   "source": [
    "cm = confusion_matrix(y_test.cocaine, lr_coc.predict_proba(X_test)[:,1] > .23)\n",
    "disp = ConfusionMatrixDisplay(confusion_matrix=cm)\n",
    "disp.plot()\n",
    "plt.show()"
   ]
  },
  {
   "cell_type": "code",
   "execution_count": 510,
   "id": "b179c8bf",
   "metadata": {},
   "outputs": [
    {
     "name": "stdout",
     "output_type": "stream",
     "text": [
      "              precision    recall  f1-score   support\n",
      "\n",
      "           0       0.90      0.69      0.78       585\n",
      "           1       0.40      0.72      0.51       166\n",
      "\n",
      "    accuracy                           0.70       751\n",
      "   macro avg       0.65      0.71      0.65       751\n",
      "weighted avg       0.79      0.70      0.72       751\n",
      "\n"
     ]
    }
   ],
   "source": [
    "print(classification_report(y_test.cocaine, lr_coc.predict_proba(X_test)[:,1] > .23))"
   ]
  },
  {
   "cell_type": "markdown",
   "id": "0b4340a7",
   "metadata": {},
   "source": [
    "## Benzodiazepine Prediction Model\n",
    "\n",
    "### Logistic Regression\n",
    "\n",
    "Again, we will be following the same process as before for each model, where we first test the model without any hyperparameter tuning, and then with tuning. "
   ]
  },
  {
   "cell_type": "code",
   "execution_count": 511,
   "id": "75dcd5cf",
   "metadata": {},
   "outputs": [
    {
     "data": {
      "text/plain": [
       "0.7620067014147431"
      ]
     },
     "execution_count": 511,
     "metadata": {},
     "output_type": "execute_result"
    }
   ],
   "source": [
    "lr = LogisticRegression()\n",
    "lr.fit(X_train, y_train.benzos)\n",
    "y_pred = lr.predict_proba(X_test)[:,1]\n",
    "roc_auc_score(y_test.benzos, y_pred)"
   ]
  },
  {
   "cell_type": "code",
   "execution_count": 512,
   "id": "3ae13df6",
   "metadata": {},
   "outputs": [
    {
     "name": "stdout",
     "output_type": "stream",
     "text": [
      "Best parameters:  {'C': 0.1}\n",
      "Best score:  0.7721236424394319\n"
     ]
    }
   ],
   "source": [
    "lr = LogisticRegression()\n",
    "params_lr = {'C': [0.0001, 0.001, 0.1, 1, 10, 100]} \n",
    "\n",
    "gs_lr_ben = GridSearchCV(lr, param_grid=params_lr, scoring='roc_auc', cv=5)\n",
    "gs_lr_ben.fit(X_train, y_train.benzos)\n",
    "\n",
    "print('Best parameters: ', gs_lr_ben.best_params_)\n",
    "print('Best score: ', gs_lr_ben.best_score_ ) "
   ]
  },
  {
   "cell_type": "code",
   "execution_count": 513,
   "id": "44a0752b",
   "metadata": {},
   "outputs": [
    {
     "data": {
      "text/plain": [
       "0.7664477183278375"
      ]
     },
     "execution_count": 513,
     "metadata": {},
     "output_type": "execute_result"
    }
   ],
   "source": [
    "#Initialize new LogisticRegression object, using the optimal C-vlaue\n",
    "lr_ben = LogisticRegression(C = gs_lr_ben.best_params_['C'])\n",
    "lr_ben.fit(X_train, y_train.benzos)\n",
    "y_pred_lr_ben = lr_ben.predict_proba(X_test)[:,1]\n",
    "\n",
    "roc_auc_score(y_test.benzos, y_pred_lr_ben)"
   ]
  },
  {
   "cell_type": "markdown",
   "id": "f8b073c1",
   "metadata": {},
   "source": [
    "### Random Forest"
   ]
  },
  {
   "cell_type": "code",
   "execution_count": 514,
   "id": "7d9ad6ba",
   "metadata": {},
   "outputs": [
    {
     "data": {
      "text/plain": [
       "0.7332198702265715"
      ]
     },
     "execution_count": 514,
     "metadata": {},
     "output_type": "execute_result"
    }
   ],
   "source": [
    "rfc = RandomForestClassifier(random_state = 21)\n",
    "rfc.fit(X_train, y_train.benzos)\n",
    "y_pred = rfc.predict_proba(X_test)[:,1]\n",
    "roc_auc_score(y_test.benzos, y_pred)"
   ]
  },
  {
   "cell_type": "code",
   "execution_count": 515,
   "id": "c216d638",
   "metadata": {},
   "outputs": [
    {
     "data": {
      "text/plain": [
       "GridSearchCV(cv=3, estimator=RandomForestClassifier(),\n",
       "             param_grid={'bootstrap': [True, False],\n",
       "                         'max_depth': [10, 20, 30, 40, 50, 60, 70, 80, 90, 100,\n",
       "                                       110, 120],\n",
       "                         'max_features': ['auto', 'sqrt'],\n",
       "                         'min_samples_leaf': [1, 3, 4],\n",
       "                         'min_samples_split': [2, 6, 10],\n",
       "                         'n_estimators': [20, 50, 100]},\n",
       "             scoring='roc_auc')"
      ]
     },
     "execution_count": 515,
     "metadata": {},
     "output_type": "execute_result"
    }
   ],
   "source": [
    "rfc = RandomForestClassifier()\n",
    "gs_rfc_ben = GridSearchCV(rfc, param_grid=params_rfc, scoring='roc_auc', cv=3)\n",
    "gs_rfc_ben.fit(X_train, y_train.benzos)"
   ]
  },
  {
   "cell_type": "code",
   "execution_count": 516,
   "id": "c9951b1f",
   "metadata": {},
   "outputs": [
    {
     "data": {
      "text/plain": [
       "{'bootstrap': True,\n",
       " 'max_depth': 110,\n",
       " 'max_features': 'auto',\n",
       " 'min_samples_leaf': 1,\n",
       " 'min_samples_split': 10,\n",
       " 'n_estimators': 50}"
      ]
     },
     "execution_count": 516,
     "metadata": {},
     "output_type": "execute_result"
    }
   ],
   "source": [
    "gs_rfc_ben.best_params_"
   ]
  },
  {
   "cell_type": "code",
   "execution_count": 517,
   "id": "31e01bc3",
   "metadata": {},
   "outputs": [
    {
     "data": {
      "text/plain": [
       "0.731052547601319"
      ]
     },
     "execution_count": 517,
     "metadata": {},
     "output_type": "execute_result"
    }
   ],
   "source": [
    "rfc_ben = RandomForestClassifier(bootstrap = gs_rfc_ben.best_params_['bootstrap'], \n",
    "                                 max_depth = gs_rfc_ben.best_params_['max_depth'], \n",
    "                                 max_features = gs_rfc_ben.best_params_['max_features'], \n",
    "                                 min_samples_leaf = gs_rfc_ben.best_params_['min_samples_leaf'],\n",
    "                                 min_samples_split = gs_rfc_ben.best_params_['min_samples_split'], \n",
    "                                 n_estimators = gs_rfc_ben.best_params_['n_estimators'], \n",
    "                                 random_state = 21)\n",
    "rfc_ben.fit(X_train, y_train.benzos)\n",
    "y_pred_rfc_ben = rfc_ben.predict_proba(X_test)[:,1]\n",
    "\n",
    "roc_auc_score(y_test.benzos, y_pred_rfc_ben)"
   ]
  },
  {
   "cell_type": "markdown",
   "id": "2c367884",
   "metadata": {},
   "source": [
    "### K-Nearest Neighbors"
   ]
  },
  {
   "cell_type": "code",
   "execution_count": 518,
   "id": "00ab9f88",
   "metadata": {},
   "outputs": [
    {
     "data": {
      "text/plain": [
       "0.680233485799383"
      ]
     },
     "execution_count": 518,
     "metadata": {},
     "output_type": "execute_result"
    }
   ],
   "source": [
    "knn = KNeighborsClassifier()\n",
    "knn.fit(X_train, y_train.benzos)\n",
    "y_pred = knn.predict_proba(X_test)[:,1]\n",
    "roc_auc_score(y_test.benzos, y_pred)"
   ]
  },
  {
   "cell_type": "code",
   "execution_count": 519,
   "id": "8bbfae66",
   "metadata": {},
   "outputs": [
    {
     "data": {
      "text/plain": [
       "GridSearchCV(cv=5, estimator=KNeighborsClassifier(),\n",
       "             param_grid={'n_neighbors': array([ 1,  2,  3,  4,  5,  6,  7,  8,  9, 10, 11, 12, 13, 14, 15, 16, 17,\n",
       "       18, 19, 20, 21, 22, 23, 24, 25, 26, 27, 28, 29, 30, 31, 32, 33, 34,\n",
       "       35, 36, 37, 38, 39, 40, 41, 42, 43, 44, 45, 46, 47, 48, 49])})"
      ]
     },
     "execution_count": 519,
     "metadata": {},
     "output_type": "execute_result"
    }
   ],
   "source": [
    "#create new a knn model\n",
    "knn = KNeighborsClassifier()\n",
    "#create a dictionary of all values we want to test for n_neighbors\n",
    "param_grid = {'n_neighbors': np.arange(1, 50)}\n",
    "#use gridsearch to test all values for n_neighbors\n",
    "gs_knn_ben = GridSearchCV(knn, param_grid, cv=5)\n",
    "#fit model to data\n",
    "gs_knn_ben.fit(X_train, y_train.benzos)"
   ]
  },
  {
   "cell_type": "code",
   "execution_count": 520,
   "id": "ebfbd188",
   "metadata": {},
   "outputs": [
    {
     "data": {
      "text/plain": [
       "{'n_neighbors': 43}"
      ]
     },
     "execution_count": 520,
     "metadata": {},
     "output_type": "execute_result"
    }
   ],
   "source": [
    "gs_knn_ben.best_params_"
   ]
  },
  {
   "cell_type": "code",
   "execution_count": 521,
   "id": "12cbf0fb",
   "metadata": {},
   "outputs": [
    {
     "data": {
      "text/plain": [
       "0.7461898877561528"
      ]
     },
     "execution_count": 521,
     "metadata": {},
     "output_type": "execute_result"
    }
   ],
   "source": [
    "knn_coc = KNeighborsClassifier(n_neighbors=gs_knn_ben.best_params_['n_neighbors'])\n",
    "knn_coc.fit(X_train, y_train.cocaine)\n",
    "y_pred_knn_ben = knn_coc.predict_proba(X_test)[:,1]\n",
    "roc_auc_score(y_test.cocaine, y_pred_knn_ben)"
   ]
  },
  {
   "cell_type": "markdown",
   "id": "9bba7210",
   "metadata": {},
   "source": [
    "### Benzodiazapine Final Model"
   ]
  },
  {
   "cell_type": "code",
   "execution_count": 522,
   "id": "e2a44ff2",
   "metadata": {},
   "outputs": [],
   "source": [
    "threshold_df_ben = pd.DataFrame(columns=['Precision','Recall'])\n",
    "\n",
    "for threshold in sorted(set(lr_ben.predict_proba(X_test)[:,1])):\n",
    "    threshold_df_ben.loc[threshold] = precision_recall(lr_ben, X_test, y_test.benzos, threshold)"
   ]
  },
  {
   "cell_type": "code",
   "execution_count": 523,
   "id": "82da8e20",
   "metadata": {},
   "outputs": [
    {
     "data": {
      "text/plain": [
       "Text(0.17, 0.55, 'Optimal Threshold')"
      ]
     },
     "execution_count": 523,
     "metadata": {},
     "output_type": "execute_result"
    },
    {
     "data": {
      "image/png": "[encoded data removed]",
      "text/plain": [
       "<Figure size 1080x648 with 1 Axes>"
      ]
     },
     "metadata": {
      "needs_background": "light"
     },
     "output_type": "display_data"
    }
   ],
   "source": [
    "ax = threshold_df_ben.plot(figsize=(15,9))\n",
    "ax.set_xlabel('Threshold')\n",
    "ax.set_title('Precision-Recall vs. Threshold')\n",
    "ax.axvline(0.19, color='black', alpha=0.3)\n",
    "ax.text(.17,.55,'Optimal Threshold',rotation=90, alpha=0.8, fontsize=14)"
   ]
  },
  {
   "cell_type": "markdown",
   "id": "83e72665",
   "metadata": {},
   "source": [
    "Here, we see recall dropping quite rapidly. To maintain a precision of at least 0.25 while maximizing recall, we will choose an optimal threshold of 0.19. "
   ]
  },
  {
   "cell_type": "code",
   "execution_count": 524,
   "id": "74f922ef",
   "metadata": {},
   "outputs": [
    {
     "data": {
      "image/png": "[encoded data removed]",
      "text/plain": [
       "<Figure size 432x288 with 2 Axes>"
      ]
     },
     "metadata": {
      "needs_background": "light"
     },
     "output_type": "display_data"
    }
   ],
   "source": [
    "cm = confusion_matrix(y_test.benzos, lr_ben.predict_proba(X_test)[:,1] > 0.19)\n",
    "disp = ConfusionMatrixDisplay(confusion_matrix=cm)\n",
    "disp.plot()\n",
    "plt.show()"
   ]
  },
  {
   "cell_type": "code",
   "execution_count": 525,
   "id": "90a3e49d",
   "metadata": {},
   "outputs": [
    {
     "name": "stdout",
     "output_type": "stream",
     "text": [
      "              precision    recall  f1-score   support\n",
      "\n",
      "           0       0.92      0.78      0.84       632\n",
      "           1       0.35      0.64      0.45       119\n",
      "\n",
      "    accuracy                           0.76       751\n",
      "   macro avg       0.64      0.71      0.65       751\n",
      "weighted avg       0.83      0.76      0.78       751\n",
      "\n"
     ]
    }
   ],
   "source": [
    "print(classification_report(y_test.benzos, lr_ben.predict_proba(X_test)[:,1] > .19))"
   ]
  }
 ],
 "metadata": {
  "kernelspec": {
   "display_name": "Python 3",
   "language": "python",
   "name": "python3"
  },
  "language_info": {
   "codemirror_mode": {
    "name": "ipython",
    "version": 3
   },
   "file_extension": ".py",
   "mimetype": "text/x-python",
   "name": "python",
   "nbconvert_exporter": "python",
   "pygments_lexer": "ipython3",
   "version": "3.8.8"
  }
 },
 "nbformat": 4,
 "nbformat_minor": 5
}
