{
 "cells": [
  {
   "cell_type": "markdown",
   "id": "c7dc158f",
   "metadata": {},
   "source": [
    "# Data Modeling\n",
    "\n",
    "It is now time to begin the actual modeling of our data to create prediction models for whether someone is susceptible to being a user of our target variables, alcohol, cocaine, and benzodiazepines. As seen in the exploration notebook, the distributions of alcohol vs the other two categories seem to be quite different. We also saw how each substance had different feature importances, and from the PCA, we saw how the users of alcohol were quite different from the other two. Because of these reasons, it may be beneficial to model each substance separately, as different models may work better or worse for different substances. Since we have already converted our target variable values to 0 (for non-user) and 1 (for user), we will need to use models well suited for binary classification. \n",
    "\n",
    "We will start with creating a prediction model for alcohol, then move on to cocaine, and lastly benzos. Let's begin by importing the necessary packages as well as our training and testing sets. "
   ]
  },
  {
   "cell_type": "code",
   "execution_count": 81,
   "id": "96dd2481",
   "metadata": {},
   "outputs": [],
   "source": [
    "import pandas as pd\n",
    "import numpy as np\n",
    "import matplotlib.pyplot as plt\n",
    "from sklearn.linear_model import LogisticRegression\n",
    "from sklearn.ensemble import RandomForestClassifier\n",
    "from sklearn.neighbors import KNeighborsClassifier\n",
    "from sklearn.svm import SVC\n",
    "from sklearn.model_selection import GridSearchCV\n",
    "from sklearn.metrics import roc_auc_score\n",
    "from sklearn.metrics import classification_report\n",
    "from sklearn.metrics import fbeta_score\n",
    "from sklearn.metrics import confusion_matrix\n",
    "from sklearn.metrics import roc_curve\n",
    "from sklearn.metrics import precision_recall_curve\n",
    "from sklearn.metrics import f1_score\n",
    "from sklearn.metrics import auc\n",
    "from sklearn.metrics import accuracy_score\n",
    "from sklearn.metrics import ConfusionMatrixDisplay"
   ]
  },
  {
   "cell_type": "code",
   "execution_count": 82,
   "id": "37509d08",
   "metadata": {},
   "outputs": [
    {
     "data": {
      "text/html": [
       "<div>\n",
       "<style scoped>\n",
       "    .dataframe tbody tr th:only-of-type {\n",
       "        vertical-align: middle;\n",
       "    }\n",
       "\n",
       "    .dataframe tbody tr th {\n",
       "        vertical-align: top;\n",
       "    }\n",
       "\n",
       "    .dataframe thead th {\n",
       "        text-align: right;\n",
       "    }\n",
       "</style>\n",
       "<table border=\"1\" class=\"dataframe\">\n",
       "  <thead>\n",
       "    <tr style=\"text-align: right;\">\n",
       "      <th></th>\n",
       "      <th>n_score</th>\n",
       "      <th>e_score</th>\n",
       "      <th>o_score</th>\n",
       "      <th>a_score</th>\n",
       "      <th>c_score</th>\n",
       "      <th>i_score</th>\n",
       "      <th>s_score</th>\n",
       "      <th>age_25-34</th>\n",
       "      <th>age_35-44</th>\n",
       "      <th>age_45-54</th>\n",
       "      <th>age_55+</th>\n",
       "      <th>gender_Female</th>\n",
       "      <th>education_Graduate Degree</th>\n",
       "      <th>education_Left School before College</th>\n",
       "      <th>education_Professional Certificate/Diploma</th>\n",
       "      <th>education_University Degree</th>\n",
       "      <th>residing_country_Other</th>\n",
       "      <th>residing_country_USA</th>\n",
       "    </tr>\n",
       "  </thead>\n",
       "  <tbody>\n",
       "    <tr>\n",
       "      <th>0</th>\n",
       "      <td>-0.947307</td>\n",
       "      <td>1.236643</td>\n",
       "      <td>-0.428800</td>\n",
       "      <td>-0.612725</td>\n",
       "      <td>0.075999</td>\n",
       "      <td>1.071322</td>\n",
       "      <td>1.292747</td>\n",
       "      <td>0</td>\n",
       "      <td>0</td>\n",
       "      <td>0</td>\n",
       "      <td>0</td>\n",
       "      <td>0</td>\n",
       "      <td>0</td>\n",
       "      <td>0</td>\n",
       "      <td>0</td>\n",
       "      <td>0</td>\n",
       "      <td>0</td>\n",
       "      <td>1</td>\n",
       "    </tr>\n",
       "    <tr>\n",
       "      <th>1</th>\n",
       "      <td>0.153230</td>\n",
       "      <td>-0.521629</td>\n",
       "      <td>0.018547</td>\n",
       "      <td>-0.767808</td>\n",
       "      <td>0.217816</td>\n",
       "      <td>-0.831897</td>\n",
       "      <td>0.548061</td>\n",
       "      <td>0</td>\n",
       "      <td>1</td>\n",
       "      <td>0</td>\n",
       "      <td>0</td>\n",
       "      <td>0</td>\n",
       "      <td>0</td>\n",
       "      <td>0</td>\n",
       "      <td>0</td>\n",
       "      <td>0</td>\n",
       "      <td>0</td>\n",
       "      <td>1</td>\n",
       "    </tr>\n",
       "    <tr>\n",
       "      <th>2</th>\n",
       "      <td>-0.286985</td>\n",
       "      <td>1.676211</td>\n",
       "      <td>0.615009</td>\n",
       "      <td>0.783018</td>\n",
       "      <td>-1.625806</td>\n",
       "      <td>1.071322</td>\n",
       "      <td>0.920404</td>\n",
       "      <td>0</td>\n",
       "      <td>0</td>\n",
       "      <td>0</td>\n",
       "      <td>0</td>\n",
       "      <td>0</td>\n",
       "      <td>0</td>\n",
       "      <td>0</td>\n",
       "      <td>0</td>\n",
       "      <td>0</td>\n",
       "      <td>0</td>\n",
       "      <td>1</td>\n",
       "    </tr>\n",
       "    <tr>\n",
       "      <th>3</th>\n",
       "      <td>-0.617146</td>\n",
       "      <td>1.676211</td>\n",
       "      <td>-2.069073</td>\n",
       "      <td>-1.077973</td>\n",
       "      <td>1.494169</td>\n",
       "      <td>1.071322</td>\n",
       "      <td>0.548061</td>\n",
       "      <td>0</td>\n",
       "      <td>0</td>\n",
       "      <td>0</td>\n",
       "      <td>1</td>\n",
       "      <td>0</td>\n",
       "      <td>1</td>\n",
       "      <td>0</td>\n",
       "      <td>0</td>\n",
       "      <td>0</td>\n",
       "      <td>0</td>\n",
       "      <td>0</td>\n",
       "    </tr>\n",
       "    <tr>\n",
       "      <th>4</th>\n",
       "      <td>-0.397038</td>\n",
       "      <td>2.115779</td>\n",
       "      <td>1.360588</td>\n",
       "      <td>0.627936</td>\n",
       "      <td>0.643267</td>\n",
       "      <td>-0.356093</td>\n",
       "      <td>0.175718</td>\n",
       "      <td>1</td>\n",
       "      <td>0</td>\n",
       "      <td>0</td>\n",
       "      <td>0</td>\n",
       "      <td>1</td>\n",
       "      <td>1</td>\n",
       "      <td>0</td>\n",
       "      <td>0</td>\n",
       "      <td>0</td>\n",
       "      <td>0</td>\n",
       "      <td>0</td>\n",
       "    </tr>\n",
       "    <tr>\n",
       "      <th>...</th>\n",
       "      <td>...</td>\n",
       "      <td>...</td>\n",
       "      <td>...</td>\n",
       "      <td>...</td>\n",
       "      <td>...</td>\n",
       "      <td>...</td>\n",
       "      <td>...</td>\n",
       "      <td>...</td>\n",
       "      <td>...</td>\n",
       "      <td>...</td>\n",
       "      <td>...</td>\n",
       "      <td>...</td>\n",
       "      <td>...</td>\n",
       "      <td>...</td>\n",
       "      <td>...</td>\n",
       "      <td>...</td>\n",
       "      <td>...</td>\n",
       "      <td>...</td>\n",
       "    </tr>\n",
       "    <tr>\n",
       "      <th>1402</th>\n",
       "      <td>0.153230</td>\n",
       "      <td>-0.814674</td>\n",
       "      <td>-0.279685</td>\n",
       "      <td>-0.147477</td>\n",
       "      <td>-0.633087</td>\n",
       "      <td>0.119712</td>\n",
       "      <td>-0.941310</td>\n",
       "      <td>0</td>\n",
       "      <td>0</td>\n",
       "      <td>1</td>\n",
       "      <td>0</td>\n",
       "      <td>0</td>\n",
       "      <td>0</td>\n",
       "      <td>1</td>\n",
       "      <td>0</td>\n",
       "      <td>0</td>\n",
       "      <td>0</td>\n",
       "      <td>0</td>\n",
       "    </tr>\n",
       "    <tr>\n",
       "      <th>1403</th>\n",
       "      <td>0.153230</td>\n",
       "      <td>-0.375106</td>\n",
       "      <td>-0.876147</td>\n",
       "      <td>-0.302560</td>\n",
       "      <td>0.075999</td>\n",
       "      <td>-0.831897</td>\n",
       "      <td>-1.685996</td>\n",
       "      <td>1</td>\n",
       "      <td>0</td>\n",
       "      <td>0</td>\n",
       "      <td>0</td>\n",
       "      <td>0</td>\n",
       "      <td>0</td>\n",
       "      <td>0</td>\n",
       "      <td>0</td>\n",
       "      <td>0</td>\n",
       "      <td>0</td>\n",
       "      <td>1</td>\n",
       "    </tr>\n",
       "    <tr>\n",
       "      <th>1404</th>\n",
       "      <td>0.373338</td>\n",
       "      <td>-0.521629</td>\n",
       "      <td>-0.279685</td>\n",
       "      <td>-1.543221</td>\n",
       "      <td>-0.916721</td>\n",
       "      <td>-1.307702</td>\n",
       "      <td>0.920404</td>\n",
       "      <td>0</td>\n",
       "      <td>0</td>\n",
       "      <td>0</td>\n",
       "      <td>0</td>\n",
       "      <td>0</td>\n",
       "      <td>0</td>\n",
       "      <td>0</td>\n",
       "      <td>0</td>\n",
       "      <td>0</td>\n",
       "      <td>0</td>\n",
       "      <td>1</td>\n",
       "    </tr>\n",
       "    <tr>\n",
       "      <th>1405</th>\n",
       "      <td>-1.607630</td>\n",
       "      <td>0.797075</td>\n",
       "      <td>1.211472</td>\n",
       "      <td>0.627936</td>\n",
       "      <td>0.075999</td>\n",
       "      <td>-0.356093</td>\n",
       "      <td>-1.685996</td>\n",
       "      <td>0</td>\n",
       "      <td>0</td>\n",
       "      <td>1</td>\n",
       "      <td>0</td>\n",
       "      <td>1</td>\n",
       "      <td>1</td>\n",
       "      <td>0</td>\n",
       "      <td>0</td>\n",
       "      <td>0</td>\n",
       "      <td>0</td>\n",
       "      <td>0</td>\n",
       "    </tr>\n",
       "    <tr>\n",
       "      <th>1406</th>\n",
       "      <td>-1.717683</td>\n",
       "      <td>1.969256</td>\n",
       "      <td>1.211472</td>\n",
       "      <td>1.403349</td>\n",
       "      <td>0.643267</td>\n",
       "      <td>-0.831897</td>\n",
       "      <td>1.665090</td>\n",
       "      <td>0</td>\n",
       "      <td>0</td>\n",
       "      <td>0</td>\n",
       "      <td>0</td>\n",
       "      <td>0</td>\n",
       "      <td>0</td>\n",
       "      <td>0</td>\n",
       "      <td>0</td>\n",
       "      <td>0</td>\n",
       "      <td>0</td>\n",
       "      <td>1</td>\n",
       "    </tr>\n",
       "  </tbody>\n",
       "</table>\n",
       "<p>1407 rows × 18 columns</p>\n",
       "</div>"
      ],
      "text/plain": [
       "       n_score   e_score   o_score   a_score   c_score   i_score   s_score  \\\n",
       "0    -0.947307  1.236643 -0.428800 -0.612725  0.075999  1.071322  1.292747   \n",
       "1     0.153230 -0.521629  0.018547 -0.767808  0.217816 -0.831897  0.548061   \n",
       "2    -0.286985  1.676211  0.615009  0.783018 -1.625806  1.071322  0.920404   \n",
       "3    -0.617146  1.676211 -2.069073 -1.077973  1.494169  1.071322  0.548061   \n",
       "4    -0.397038  2.115779  1.360588  0.627936  0.643267 -0.356093  0.175718   \n",
       "...        ...       ...       ...       ...       ...       ...       ...   \n",
       "1402  0.153230 -0.814674 -0.279685 -0.147477 -0.633087  0.119712 -0.941310   \n",
       "1403  0.153230 -0.375106 -0.876147 -0.302560  0.075999 -0.831897 -1.685996   \n",
       "1404  0.373338 -0.521629 -0.279685 -1.543221 -0.916721 -1.307702  0.920404   \n",
       "1405 -1.607630  0.797075  1.211472  0.627936  0.075999 -0.356093 -1.685996   \n",
       "1406 -1.717683  1.969256  1.211472  1.403349  0.643267 -0.831897  1.665090   \n",
       "\n",
       "      age_25-34  age_35-44  age_45-54  age_55+  gender_Female  \\\n",
       "0             0          0          0        0              0   \n",
       "1             0          1          0        0              0   \n",
       "2             0          0          0        0              0   \n",
       "3             0          0          0        1              0   \n",
       "4             1          0          0        0              1   \n",
       "...         ...        ...        ...      ...            ...   \n",
       "1402          0          0          1        0              0   \n",
       "1403          1          0          0        0              0   \n",
       "1404          0          0          0        0              0   \n",
       "1405          0          0          1        0              1   \n",
       "1406          0          0          0        0              0   \n",
       "\n",
       "      education_Graduate Degree  education_Left School before College  \\\n",
       "0                             0                                     0   \n",
       "1                             0                                     0   \n",
       "2                             0                                     0   \n",
       "3                             1                                     0   \n",
       "4                             1                                     0   \n",
       "...                         ...                                   ...   \n",
       "1402                          0                                     1   \n",
       "1403                          0                                     0   \n",
       "1404                          0                                     0   \n",
       "1405                          1                                     0   \n",
       "1406                          0                                     0   \n",
       "\n",
       "      education_Professional Certificate/Diploma  education_University Degree  \\\n",
       "0                                              0                            0   \n",
       "1                                              0                            0   \n",
       "2                                              0                            0   \n",
       "3                                              0                            0   \n",
       "4                                              0                            0   \n",
       "...                                          ...                          ...   \n",
       "1402                                           0                            0   \n",
       "1403                                           0                            0   \n",
       "1404                                           0                            0   \n",
       "1405                                           0                            0   \n",
       "1406                                           0                            0   \n",
       "\n",
       "      residing_country_Other  residing_country_USA  \n",
       "0                          0                     1  \n",
       "1                          0                     1  \n",
       "2                          0                     1  \n",
       "3                          0                     0  \n",
       "4                          0                     0  \n",
       "...                      ...                   ...  \n",
       "1402                       0                     0  \n",
       "1403                       0                     1  \n",
       "1404                       0                     1  \n",
       "1405                       0                     0  \n",
       "1406                       0                     1  \n",
       "\n",
       "[1407 rows x 18 columns]"
      ]
     },
     "execution_count": 82,
     "metadata": {},
     "output_type": "execute_result"
    }
   ],
   "source": [
    "X_train = pd.read_csv(\"../data/X_train.csv\", index_col=0)\n",
    "y_train = pd.read_csv(\"../data/y_train.csv\", index_col=0)\n",
    "X_test = pd.read_csv(\"../data/X_test.csv\", index_col=0)\n",
    "y_test = pd.read_csv(\"../data/y_test.csv\", index_col=0)\n",
    "X_train"
   ]
  },
  {
   "cell_type": "markdown",
   "id": "43a692be",
   "metadata": {},
   "source": [
    "## Alcohol Use - Prediction Model\n",
    "\n",
    "### Logistic Regression"
   ]
  },
  {
   "cell_type": "markdown",
   "id": "f31403cd",
   "metadata": {},
   "source": [
    "Let's start with Logistic Regression as our first model to predict alcohol use. Logistic Regression takes a regularization parameter C. We will use GridSearchCV to determine the C value that gives the best value. Let's first train and test the model without any hyperparameter tuning to see how it performs. Our evaluation metric going forward will be the ROC AUC Score. "
   ]
  },
  {
   "cell_type": "code",
   "execution_count": 100,
   "id": "4f61f369",
   "metadata": {},
   "outputs": [
    {
     "data": {
      "text/plain": [
       "0.5607881727232258"
      ]
     },
     "execution_count": 100,
     "metadata": {},
     "output_type": "execute_result"
    }
   ],
   "source": [
    "#Initialize the Logistic Regression Classifier\n",
    "lr = LogisticRegression()\n",
    "#fit the model to the training data\n",
    "lr.fit(X_train, y_train.alcohol)\n",
    "#Predict target variable using the test set and evaluate using roc_auc score\n",
    "y_pred = lr.predict_proba(X_test)[:,1]\n",
    "roc_auc_score(y_test.alcohol, y_pred)"
   ]
  },
  {
   "cell_type": "markdown",
   "id": "792ee126",
   "metadata": {},
   "source": [
    "Without any hyperparameter tuning, we get a roc_auc score of about 0.5832. Let's see if we can do better by tuning the regularization parameter. "
   ]
  },
  {
   "cell_type": "code",
   "execution_count": 101,
   "id": "e41a03a5",
   "metadata": {},
   "outputs": [
    {
     "name": "stdout",
     "output_type": "stream",
     "text": [
      "Best parameters:  {'C': 10}\n",
      "Best score:  0.612689843837631\n"
     ]
    }
   ],
   "source": [
    "#Initialize the Logistic Regression Classifier\n",
    "lr = LogisticRegression()\n",
    "\n",
    "#Define set of C values to test\n",
    "params_lr = {'C': [0.0001, 0.001, 0.1, 1, 10, 100]} \n",
    "\n",
    "#Use GridSearchCV, with roc_auc as the scoring guideline\n",
    "gs_lr_alc = GridSearchCV(lr, param_grid=params_lr, scoring='roc_auc', cv=5)\n",
    "gs_lr_alc.fit(X_train, y_train.alcohol)\n",
    "\n",
    "print('Best parameters: ', gs_lr_alc.best_params_)\n",
    "print('Best score: ', gs_lr_alc.best_score_ ) "
   ]
  },
  {
   "cell_type": "markdown",
   "id": "1717d482",
   "metadata": {},
   "source": [
    "We see the best regularization parameter is 1, giving an roc_auc score of about 0.6446. This C value is the same as the default used previously, so we will get the same roc_auc value as before, see below. "
   ]
  },
  {
   "cell_type": "code",
   "execution_count": 102,
   "id": "80b52dda",
   "metadata": {},
   "outputs": [
    {
     "data": {
      "text/plain": [
       "0.5617019282584756"
      ]
     },
     "execution_count": 102,
     "metadata": {},
     "output_type": "execute_result"
    }
   ],
   "source": [
    "#Initialize new LogisticRegression object, using the optimal C-vlaue\n",
    "lr_alc = LogisticRegression(C = gs_lr_alc.best_params_['C'])\n",
    "lr_alc.fit(X_train, y_train.alcohol)\n",
    "y_pred_lr_alc = lr_alc.predict_proba(X_test)[:,1]\n",
    "\n",
    "roc_auc_score(y_test.alcohol, y_pred_lr_alc)"
   ]
  },
  {
   "cell_type": "markdown",
   "id": "17e9d2e8",
   "metadata": {},
   "source": [
    "Let's move on to a random forest model to see if we can do better. "
   ]
  },
  {
   "cell_type": "markdown",
   "id": "d3ab254e",
   "metadata": {},
   "source": [
    "### Random Forest"
   ]
  },
  {
   "cell_type": "markdown",
   "id": "428521fa",
   "metadata": {},
   "source": [
    "Like before, let's start by training a RF model without any hyperparameter tuning to see how it performs. "
   ]
  },
  {
   "cell_type": "code",
   "execution_count": 103,
   "id": "6734c0b4",
   "metadata": {},
   "outputs": [
    {
     "data": {
      "text/plain": [
       "0.5657435392797731"
      ]
     },
     "execution_count": 103,
     "metadata": {},
     "output_type": "execute_result"
    }
   ],
   "source": [
    "#Initialize the Random Forest Classifier\n",
    "rfc = RandomForestClassifier(random_state = 21)\n",
    "#fit the model to the training data\n",
    "rfc.fit(X_train, y_train.alcohol)\n",
    "#Predict target variable using the test set and evaluate using roc_auc score\n",
    "y_pred = rfc.predict_proba(X_test)[:,1]\n",
    "roc_auc_score(y_test.alcohol, y_pred)"
   ]
  },
  {
   "cell_type": "markdown",
   "id": "fffda843",
   "metadata": {},
   "source": [
    "This performs slightly worse than the Logistic Regression model with all default hyperparameters. "
   ]
  },
  {
   "cell_type": "markdown",
   "id": "cc5ff873",
   "metadata": {},
   "source": [
    "For Random Forest, there are several different hyperparameters that can be tuned to optimize our model with scikit-learn. We will focus on tuning n_estimators (the number of trees), max_features (max number of features to consider at every split), max_depth (max number of levels allowed in each tree), min_samples_split (minimum sample number to split a node), min_samples_leaf (minimum sample number that can be stored in a leaf node), and bootstrap (the method for sampling the data points). "
   ]
  },
  {
   "cell_type": "code",
   "execution_count": 104,
   "id": "5571847b",
   "metadata": {},
   "outputs": [],
   "source": [
    "#set the values for hyperparameters that we want to test\n",
    "n_estimators = [20,50,100] \n",
    "max_features = ['auto', 'sqrt'] \n",
    "max_depth = [int(x) for x in np.linspace(10, 120, num = 12)]\n",
    "min_samples_split = [2, 6, 10] \n",
    "min_samples_leaf = [1, 3, 4]\n",
    "bootstrap = [True, False]"
   ]
  },
  {
   "cell_type": "code",
   "execution_count": 105,
   "id": "9153ad82",
   "metadata": {},
   "outputs": [],
   "source": [
    "#set the parameter grid\n",
    "params_rfc = {'n_estimators': n_estimators,\n",
    "               'max_features': max_features,\n",
    "               'max_depth': max_depth,\n",
    "               'min_samples_split': min_samples_split,\n",
    "               'min_samples_leaf': min_samples_leaf,\n",
    "               'bootstrap': bootstrap}"
   ]
  },
  {
   "cell_type": "code",
   "execution_count": 106,
   "id": "e73a6a17",
   "metadata": {},
   "outputs": [
    {
     "data": {
      "text/plain": [
       "GridSearchCV(cv=3, estimator=RandomForestClassifier(),\n",
       "             param_grid={'bootstrap': [True, False],\n",
       "                         'max_depth': [10, 20, 30, 40, 50, 60, 70, 80, 90, 100,\n",
       "                                       110, 120],\n",
       "                         'max_features': ['auto', 'sqrt'],\n",
       "                         'min_samples_leaf': [1, 3, 4],\n",
       "                         'min_samples_split': [2, 6, 10],\n",
       "                         'n_estimators': [20, 50, 100]},\n",
       "             scoring='roc_auc')"
      ]
     },
     "execution_count": 106,
     "metadata": {},
     "output_type": "execute_result"
    }
   ],
   "source": [
    "#Use grid search to find the best parameters\n",
    "rfc = RandomForestClassifier()\n",
    "gs_rfc_alc = GridSearchCV(rfc, param_grid=params_rfc, scoring='roc_auc', cv=3)\n",
    "gs_rfc_alc.fit(X_train, y_train.alcohol)"
   ]
  },
  {
   "cell_type": "code",
   "execution_count": 107,
   "id": "c2ef34ea",
   "metadata": {},
   "outputs": [
    {
     "data": {
      "text/plain": [
       "{'bootstrap': True,\n",
       " 'max_depth': 10,\n",
       " 'max_features': 'auto',\n",
       " 'min_samples_leaf': 1,\n",
       " 'min_samples_split': 2,\n",
       " 'n_estimators': 100}"
      ]
     },
     "execution_count": 107,
     "metadata": {},
     "output_type": "execute_result"
    }
   ],
   "source": [
    "gs_rfc_alc.best_params_"
   ]
  },
  {
   "cell_type": "code",
   "execution_count": 108,
   "id": "beedcf69",
   "metadata": {},
   "outputs": [
    {
     "data": {
      "text/plain": [
       "0.5680982170052248"
      ]
     },
     "execution_count": 108,
     "metadata": {},
     "output_type": "execute_result"
    }
   ],
   "source": [
    "rfc_alc = RandomForestClassifier(bootstrap = gs_rfc_alc.best_params_['bootstrap'], \n",
    "                              max_depth = gs_rfc_alc.best_params_['max_depth'], \n",
    "                              max_features = gs_rfc_alc.best_params_['max_features'], \n",
    "                              min_samples_leaf = gs_rfc_alc.best_params_['min_samples_leaf'],\n",
    "                              min_samples_split = gs_rfc_alc.best_params_['min_samples_split'], \n",
    "                              n_estimators = gs_rfc_alc.best_params_['n_estimators'], \n",
    "                              random_state = 21)\n",
    "rfc_alc.fit(X_train, y_train.alcohol)\n",
    "y_pred_rfc_alc = rfc_alc.predict_proba(X_test)[:,1]\n",
    "\n",
    "roc_auc_score(y_test.alcohol, y_pred_rfc_alc)"
   ]
  },
  {
   "cell_type": "markdown",
   "id": "b1d27dad",
   "metadata": {},
   "source": [
    "We see the model improved a little bit with hyperparamter tuning, but not by much. Also, this is just slightly above the performance of the logistic regression model, but took much longer to run. Because of this computing time, logistic regression still seems to be our best model. "
   ]
  },
  {
   "cell_type": "markdown",
   "id": "9274fe54",
   "metadata": {},
   "source": [
    "### K-Nearest Neighbors\n",
    "\n",
    "The last model we will test for alcohol use prediction is a Knn model. As before, we will first test without hyperparameter tuning. "
   ]
  },
  {
   "cell_type": "code",
   "execution_count": 109,
   "id": "dbcb55c1",
   "metadata": {},
   "outputs": [
    {
     "data": {
      "text/plain": [
       "0.5267332068133361"
      ]
     },
     "execution_count": 109,
     "metadata": {},
     "output_type": "execute_result"
    }
   ],
   "source": [
    "knn = KNeighborsClassifier()\n",
    "knn.fit(X_train, y_train.alcohol)\n",
    "y_pred = knn.predict_proba(X_test)[:,1]\n",
    "roc_auc_score(y_test.alcohol, y_pred)"
   ]
  },
  {
   "cell_type": "markdown",
   "id": "cae586b1",
   "metadata": {},
   "source": [
    "The default k value is 5. We will now try using GridSearch to test k-values between 1 and 50. "
   ]
  },
  {
   "cell_type": "code",
   "execution_count": 111,
   "id": "08c8e9a9",
   "metadata": {},
   "outputs": [
    {
     "data": {
      "text/plain": [
       "GridSearchCV(cv=5, estimator=KNeighborsClassifier(),\n",
       "             param_grid={'n_neighbors': array([ 1,  2,  3,  4,  5,  6,  7,  8,  9, 10, 11, 12, 13, 14, 15, 16, 17,\n",
       "       18, 19, 20, 21, 22, 23, 24, 25, 26, 27, 28, 29, 30, 31, 32, 33, 34,\n",
       "       35, 36, 37, 38, 39, 40, 41, 42, 43, 44, 45, 46, 47, 48, 49])})"
      ]
     },
     "execution_count": 111,
     "metadata": {},
     "output_type": "execute_result"
    }
   ],
   "source": [
    "#create new a knn model\n",
    "knn = KNeighborsClassifier()\n",
    "#create a dictionary of all values we want to test for n_neighbors\n",
    "param_grid = {'n_neighbors': np.arange(1, 50)}\n",
    "#use gridsearch to test all values for n_neighbors\n",
    "gs_knn_alc = GridSearchCV(knn, param_grid, cv=5)\n",
    "#fit model to data\n",
    "gs_knn_alc.fit(X_train, y_train.alcohol)"
   ]
  },
  {
   "cell_type": "code",
   "execution_count": 112,
   "id": "c7506199",
   "metadata": {},
   "outputs": [
    {
     "data": {
      "text/plain": [
       "{'n_neighbors': 18}"
      ]
     },
     "execution_count": 112,
     "metadata": {},
     "output_type": "execute_result"
    }
   ],
   "source": [
    "gs_knn_alc.best_params_"
   ]
  },
  {
   "cell_type": "code",
   "execution_count": 113,
   "id": "b1ce0050",
   "metadata": {},
   "outputs": [
    {
     "data": {
      "text/plain": [
       "0.5636817319181837"
      ]
     },
     "execution_count": 113,
     "metadata": {},
     "output_type": "execute_result"
    }
   ],
   "source": [
    "knn_alc = KNeighborsClassifier(n_neighbors=gs_knn_alc.best_params_['n_neighbors'])\n",
    "knn_alc.fit(X_train, y_train.alcohol)\n",
    "y_pred_knn_alc = knn_alc.predict_proba(X_test)[:,1]\n",
    "roc_auc_score(y_test.alcohol, y_pred_knn_alc)"
   ]
  },
  {
   "cell_type": "markdown",
   "id": "f3763afb",
   "metadata": {},
   "source": [
    "As we can see, this model also performs quite poorly, so random forest seems to be our best model. "
   ]
  },
  {
   "cell_type": "markdown",
   "id": "3a238a3e",
   "metadata": {},
   "source": [
    "### Final Model for Alcohol"
   ]
  },
  {
   "cell_type": "markdown",
   "id": "02152029",
   "metadata": {},
   "source": [
    "None of the models we have tried have performed well for alcohol, which makes some sense as it would be quite hard to predict who is more likely to abuse a substance as widely and frequently used as alcohol is. People with all sorts of personality types, from all age groups and education levels, and from all over the world consume alcohol somewhat regularly so it would be difficult to create a prediction model without further data collection on the individuals and their lifestyle/habits. Let us look more closely at the performance of our random forest model, which seemed to perform the best out of the three models we tried. "
   ]
  },
  {
   "cell_type": "code",
   "execution_count": 114,
   "id": "5f7e3e10",
   "metadata": {},
   "outputs": [
    {
     "name": "stdout",
     "output_type": "stream",
     "text": [
      "              precision    recall  f1-score   support\n",
      "\n",
      "           0       0.74      0.99      0.85       347\n",
      "           1       0.33      0.01      0.02       123\n",
      "\n",
      "    accuracy                           0.74       470\n",
      "   macro avg       0.54      0.50      0.43       470\n",
      "weighted avg       0.63      0.74      0.63       470\n",
      "\n"
     ]
    }
   ],
   "source": [
    "print(classification_report(y_test.alcohol, rfc_alc.predict(X_test)))"
   ]
  },
  {
   "cell_type": "code",
   "execution_count": 115,
   "id": "904169ff",
   "metadata": {},
   "outputs": [],
   "source": [
    "#Defining a function that returns precision recall and f_beta score\n",
    "#We will plot them against different thresholds\n",
    "\n",
    "def precision_recall(model, X_test, y_test, threshold, beta = 0.5):\n",
    "    \n",
    "    y_pred = (model.predict_proba(X_test)[:,1] >= threshold).astype(bool)\n",
    "    matrix = confusion_matrix(y_test, y_pred)\n",
    "    \n",
    "    #print(threshold,'\\n', matrix)\n",
    "    \n",
    "    tn = matrix[0,0] # Respondents predicted to be non-users and were non-users\n",
    "    tp = matrix[1,1] # Respondents predicted to be users and were users\n",
    "    fp = matrix[0,1] # Respondents predicted to be users and were non-users\n",
    "    fn = matrix[1,0] # Respondents predicted to be non-users and were users\n",
    "    \n",
    "    precision = tp/(tp+fp)\n",
    "    recall = tp/(tp+fn)\n",
    "    \n",
    "    f_beta = fbeta_score(y_test, y_pred, beta=beta)\n",
    "    \n",
    "    return([precision, recall, f_beta])"
   ]
  },
  {
   "cell_type": "code",
   "execution_count": 134,
   "id": "df40d2b5",
   "metadata": {},
   "outputs": [],
   "source": [
    "threshold_df_alc = pd.DataFrame(columns=['Precision','Recall','F0.5_measure'])\n",
    "\n",
    "for threshold in sorted(set(rfc_alc.predict_proba(X_test)[:,1])):\n",
    "    threshold_df_alc.loc[threshold] = precision_recall(rfc_alc, X_test, y_test.alcohol, threshold)"
   ]
  },
  {
   "cell_type": "code",
   "execution_count": 135,
   "id": "3c409459",
   "metadata": {},
   "outputs": [
    {
     "data": {
      "text/plain": [
       "Text(0.275, 0.55, 'Optimal Threshold F0.5')"
      ]
     },
     "execution_count": 135,
     "metadata": {},
     "output_type": "execute_result"
    },
    {
     "data": {
      "image/png": "[encoded data removed]",
      "text/plain": [
       "<Figure size 1080x648 with 1 Axes>"
      ]
     },
     "metadata": {
      "needs_background": "light"
     },
     "output_type": "display_data"
    }
   ],
   "source": [
    "ax = threshold_df_alc.plot(figsize=(15,9))\n",
    "ax.set_xlabel('Threshold')\n",
    "ax.set_title('Precision-Recall vs. Threshold')\n",
    "ax.axvline(0.266, color='black', alpha=0.3)\n",
    "ax.text(.275,.55,'Optimal Threshold F0.5',rotation=90, alpha=0.8, fontsize=14)"
   ]
  },
  {
   "cell_type": "markdown",
   "id": "79873ad5",
   "metadata": {},
   "source": [
    "We see that the F beta score peaks when the threshold is about 0.266. Overall, however, we can see from this chart that the model is performing quite poorly. Let's look at the confusion matrix to get a better look at what predictions were made in the test set. "
   ]
  },
  {
   "cell_type": "code",
   "execution_count": 118,
   "id": "61095a80",
   "metadata": {},
   "outputs": [
    {
     "data": {
      "image/png": "[encoded data removed]",
      "text/plain": [
       "<Figure size 432x288 with 2 Axes>"
      ]
     },
     "metadata": {
      "needs_background": "light"
     },
     "output_type": "display_data"
    }
   ],
   "source": [
    "cm = confusion_matrix(y_test.alcohol, rfc_alc.predict(X_test))\n",
    "disp = ConfusionMatrixDisplay(confusion_matrix=cm)\n",
    "disp.plot()\n",
    "plt.show()"
   ]
  },
  {
   "cell_type": "markdown",
   "id": "3dc0949a",
   "metadata": {},
   "source": [
    "Here, we see that the model correctly labeled 345 samples as non users and only one sample as a user. It then incorrectly labeled 122 samples as non users who were actually users and incorrectly labeled 2 samples as users who were actually non users. We see this model was extremely selective in categorizing one as a user of alcohol, as it only categorized 3 samples in total as user, even though 123 total samples were actually defined as users in the test set. Perhaps our categorization of user must be more broad in order for the model to perform better. Let's now move onto cocaine and see if we can get a better prediction model for this substance category. "
   ]
  },
  {
   "cell_type": "markdown",
   "id": "5d5b354c",
   "metadata": {},
   "source": [
    "## Cocaine Use - Prediction Model\n",
    "\n",
    "We will largely follow the same process as with alcohol, using logistic regression, random forest, and knn models and deciding which performs best at the end based off of ROC AUC Scores. \n",
    "\n",
    "### Logistic Regression"
   ]
  },
  {
   "cell_type": "code",
   "execution_count": 119,
   "id": "58fe4e94",
   "metadata": {},
   "outputs": [
    {
     "data": {
      "text/plain": [
       "0.7244444444444444"
      ]
     },
     "execution_count": 119,
     "metadata": {},
     "output_type": "execute_result"
    }
   ],
   "source": [
    "#Initialize the Logistic Regression Classifier\n",
    "lr = LogisticRegression()\n",
    "#fit the model to the training data\n",
    "lr.fit(X_train, y_train.cocaine)\n",
    "#Predict target variable using the test set and evaluate using roc_auc score\n",
    "y_pred = lr.predict_proba(X_test)[:,1]\n",
    "roc_auc_score(y_test.cocaine, y_pred)"
   ]
  },
  {
   "cell_type": "code",
   "execution_count": 120,
   "id": "e1838b8e",
   "metadata": {},
   "outputs": [
    {
     "name": "stdout",
     "output_type": "stream",
     "text": [
      "Best parameters:  {'C': 1}\n",
      "Best score:  0.754911715781281\n"
     ]
    }
   ],
   "source": [
    "#Initialize the Logistic Regression Classifier\n",
    "lr = LogisticRegression()\n",
    "\n",
    "#Define set of C values to test\n",
    "params_lr = {'C': [0.0001, 0.001, 0.1, 1, 10, 100]} \n",
    "\n",
    "#Use GridSearchCV, with roc_auc as the scoring guideline\n",
    "gs_lr_coc = GridSearchCV(lr, param_grid=params_lr, scoring='roc_auc', cv=5)\n",
    "gs_lr_coc.fit(X_train, y_train.cocaine)\n",
    "\n",
    "print('Best parameters: ', gs_lr_coc.best_params_)\n",
    "print('Best score: ', gs_lr_coc.best_score_ ) "
   ]
  },
  {
   "cell_type": "code",
   "execution_count": 121,
   "id": "41ecf6ed",
   "metadata": {},
   "outputs": [
    {
     "data": {
      "text/plain": [
       "0.7244444444444444"
      ]
     },
     "execution_count": 121,
     "metadata": {},
     "output_type": "execute_result"
    }
   ],
   "source": [
    "#Initialize new LogisticRegression object, using the optimal C-vlaue\n",
    "lr_coc = LogisticRegression(C = gs_lr_coc.best_params_['C'])\n",
    "lr_coc.fit(X_train, y_train.cocaine)\n",
    "y_pred_lr_coc = lr_coc.predict_proba(X_test)[:,1]\n",
    "\n",
    "roc_auc_score(y_test.cocaine, y_pred_lr_coc)"
   ]
  },
  {
   "cell_type": "markdown",
   "id": "6a91b333",
   "metadata": {},
   "source": [
    "### Random Forest"
   ]
  },
  {
   "cell_type": "code",
   "execution_count": 122,
   "id": "520c7ab0",
   "metadata": {},
   "outputs": [
    {
     "data": {
      "text/plain": [
       "0.7174901960784315"
      ]
     },
     "execution_count": 122,
     "metadata": {},
     "output_type": "execute_result"
    }
   ],
   "source": [
    "#Initialize the Random Forest Classifier\n",
    "rfc = RandomForestClassifier(random_state = 21)\n",
    "#fit the model to the training data\n",
    "rfc.fit(X_train, y_train.cocaine)\n",
    "#Predict target variable using the test set and evaluate using roc_auc score\n",
    "y_pred = rfc.predict_proba(X_test)[:,1]\n",
    "roc_auc_score(y_test.cocaine, y_pred)"
   ]
  },
  {
   "cell_type": "code",
   "execution_count": 123,
   "id": "c21d73e4",
   "metadata": {},
   "outputs": [
    {
     "data": {
      "text/plain": [
       "GridSearchCV(cv=3, estimator=RandomForestClassifier(),\n",
       "             param_grid={'bootstrap': [True, False],\n",
       "                         'max_depth': [10, 20, 30, 40, 50, 60, 70, 80, 90, 100,\n",
       "                                       110, 120],\n",
       "                         'max_features': ['auto', 'sqrt'],\n",
       "                         'min_samples_leaf': [1, 3, 4],\n",
       "                         'min_samples_split': [2, 6, 10],\n",
       "                         'n_estimators': [20, 50, 100]},\n",
       "             scoring='roc_auc')"
      ]
     },
     "execution_count": 123,
     "metadata": {},
     "output_type": "execute_result"
    }
   ],
   "source": [
    "rfc = RandomForestClassifier()\n",
    "gs_rfc_coc = GridSearchCV(rfc, param_grid=params_rfc, scoring='roc_auc', cv=3)\n",
    "gs_rfc_coc.fit(X_train, y_train.cocaine)"
   ]
  },
  {
   "cell_type": "code",
   "execution_count": 124,
   "id": "ba39d0b5",
   "metadata": {},
   "outputs": [
    {
     "data": {
      "text/plain": [
       "{'bootstrap': True,\n",
       " 'max_depth': 60,\n",
       " 'max_features': 'auto',\n",
       " 'min_samples_leaf': 4,\n",
       " 'min_samples_split': 10,\n",
       " 'n_estimators': 20}"
      ]
     },
     "execution_count": 124,
     "metadata": {},
     "output_type": "execute_result"
    }
   ],
   "source": [
    "gs_rfc_coc.best_params_"
   ]
  },
  {
   "cell_type": "code",
   "execution_count": 125,
   "id": "1d766eff",
   "metadata": {},
   "outputs": [
    {
     "data": {
      "text/plain": [
       "0.7296993464052287"
      ]
     },
     "execution_count": 125,
     "metadata": {},
     "output_type": "execute_result"
    }
   ],
   "source": [
    "rfc_coc = RandomForestClassifier(bootstrap = gs_rfc_coc.best_params_['bootstrap'], \n",
    "                                 max_depth = gs_rfc_coc.best_params_['max_depth'], \n",
    "                                 max_features = gs_rfc_coc.best_params_['max_features'], \n",
    "                                 min_samples_leaf = gs_rfc_coc.best_params_['min_samples_leaf'],\n",
    "                                 min_samples_split = gs_rfc_coc.best_params_['min_samples_split'], \n",
    "                                 n_estimators = gs_rfc_coc.best_params_['n_estimators'], \n",
    "                                 random_state = 21)\n",
    "rfc_coc.fit(X_train, y_train.cocaine)\n",
    "y_pred_rfc_coc = rfc_coc.predict_proba(X_test)[:,1]\n",
    "\n",
    "roc_auc_score(y_test.cocaine, y_pred_rfc_coc)"
   ]
  },
  {
   "cell_type": "markdown",
   "id": "2bf70815",
   "metadata": {},
   "source": [
    "### K-Nearest Neighbors"
   ]
  },
  {
   "cell_type": "code",
   "execution_count": 126,
   "id": "da9110e7",
   "metadata": {},
   "outputs": [
    {
     "data": {
      "text/plain": [
       "0.6169150326797386"
      ]
     },
     "execution_count": 126,
     "metadata": {},
     "output_type": "execute_result"
    }
   ],
   "source": [
    "knn = KNeighborsClassifier()\n",
    "knn.fit(X_train, y_train.cocaine)\n",
    "y_pred = knn.predict_proba(X_test)[:,1]\n",
    "roc_auc_score(y_test.cocaine, y_pred)"
   ]
  },
  {
   "cell_type": "code",
   "execution_count": 127,
   "id": "459d4bf6",
   "metadata": {},
   "outputs": [
    {
     "data": {
      "text/plain": [
       "GridSearchCV(cv=5, estimator=KNeighborsClassifier(),\n",
       "             param_grid={'n_neighbors': array([ 1,  2,  3,  4,  5,  6,  7,  8,  9, 10, 11, 12, 13, 14, 15, 16, 17,\n",
       "       18, 19, 20, 21, 22, 23, 24, 25, 26, 27, 28, 29, 30, 31, 32, 33, 34,\n",
       "       35, 36, 37, 38, 39, 40, 41, 42, 43, 44, 45, 46, 47, 48, 49])})"
      ]
     },
     "execution_count": 127,
     "metadata": {},
     "output_type": "execute_result"
    }
   ],
   "source": [
    "#create new a knn model\n",
    "knn = KNeighborsClassifier()\n",
    "#create a dictionary of all values we want to test for n_neighbors\n",
    "param_grid = {'n_neighbors': np.arange(1, 50)}\n",
    "#use gridsearch to test all values for n_neighbors\n",
    "gs_knn_coc = GridSearchCV(knn, param_grid, cv=5)\n",
    "#fit model to data\n",
    "gs_knn_coc.fit(X_train, y_train.cocaine)"
   ]
  },
  {
   "cell_type": "code",
   "execution_count": 128,
   "id": "67dfb835",
   "metadata": {},
   "outputs": [
    {
     "data": {
      "text/plain": [
       "{'n_neighbors': 12}"
      ]
     },
     "execution_count": 128,
     "metadata": {},
     "output_type": "execute_result"
    }
   ],
   "source": [
    "gs_knn_coc.best_params_"
   ]
  },
  {
   "cell_type": "code",
   "execution_count": 129,
   "id": "492df7c5",
   "metadata": {},
   "outputs": [
    {
     "data": {
      "text/plain": [
       "0.7160261437908497"
      ]
     },
     "execution_count": 129,
     "metadata": {},
     "output_type": "execute_result"
    }
   ],
   "source": [
    "knn_coc = KNeighborsClassifier(n_neighbors=gs_knn_coc.best_params_['n_neighbors'])\n",
    "knn_coc.fit(X_train, y_train.cocaine)\n",
    "y_pred_knn_coc = knn_coc.predict_proba(X_test)[:,1]\n",
    "roc_auc_score(y_test.cocaine, y_pred_knn_coc)"
   ]
  },
  {
   "cell_type": "markdown",
   "id": "b5687938",
   "metadata": {},
   "source": [
    "Random Forest is again our best model. "
   ]
  },
  {
   "cell_type": "markdown",
   "id": "3983becb",
   "metadata": {},
   "source": [
    "### Cocaine Final Model"
   ]
  },
  {
   "cell_type": "code",
   "execution_count": 130,
   "id": "9f3660e8",
   "metadata": {},
   "outputs": [
    {
     "name": "stdout",
     "output_type": "stream",
     "text": [
      "              precision    recall  f1-score   support\n",
      "\n",
      "           0       0.90      1.00      0.95       425\n",
      "           1       0.00      0.00      0.00        45\n",
      "\n",
      "    accuracy                           0.90       470\n",
      "   macro avg       0.45      0.50      0.47       470\n",
      "weighted avg       0.82      0.90      0.86       470\n",
      "\n"
     ]
    },
    {
     "name": "stderr",
     "output_type": "stream",
     "text": [
      "/Users/rishabghose/opt/anaconda3/lib/python3.8/site-packages/sklearn/metrics/_classification.py:1245: UndefinedMetricWarning: Precision and F-score are ill-defined and being set to 0.0 in labels with no predicted samples. Use `zero_division` parameter to control this behavior.\n",
      "  _warn_prf(average, modifier, msg_start, len(result))\n",
      "/Users/rishabghose/opt/anaconda3/lib/python3.8/site-packages/sklearn/metrics/_classification.py:1245: UndefinedMetricWarning: Precision and F-score are ill-defined and being set to 0.0 in labels with no predicted samples. Use `zero_division` parameter to control this behavior.\n",
      "  _warn_prf(average, modifier, msg_start, len(result))\n",
      "/Users/rishabghose/opt/anaconda3/lib/python3.8/site-packages/sklearn/metrics/_classification.py:1245: UndefinedMetricWarning: Precision and F-score are ill-defined and being set to 0.0 in labels with no predicted samples. Use `zero_division` parameter to control this behavior.\n",
      "  _warn_prf(average, modifier, msg_start, len(result))\n"
     ]
    }
   ],
   "source": [
    "print(classification_report(y_test.cocaine, rfc_coc.predict(X_test)))"
   ]
  },
  {
   "cell_type": "code",
   "execution_count": 136,
   "id": "e36f9b2f",
   "metadata": {},
   "outputs": [],
   "source": [
    "threshold_df_coc = pd.DataFrame(columns=['Precision','Recall','F0.5_measure'])\n",
    "\n",
    "for threshold in sorted(set(rfc_coc.predict_proba(X_test)[:,1])):\n",
    "    threshold_df_coc.loc[threshold] = precision_recall(rfc_coc, X_test, y_test.cocaine, threshold)"
   ]
  },
  {
   "cell_type": "code",
   "execution_count": 141,
   "id": "e47a3aa8",
   "metadata": {},
   "outputs": [
    {
     "data": {
      "text/plain": [
       "Text(0.225, 0.55, 'Optimal Threshold F0.5')"
      ]
     },
     "execution_count": 141,
     "metadata": {},
     "output_type": "execute_result"
    },
    {
     "data": {
      "image/png": "[encoded data removed]",
      "text/plain": [
       "<Figure size 1080x648 with 1 Axes>"
      ]
     },
     "metadata": {
      "needs_background": "light"
     },
     "output_type": "display_data"
    }
   ],
   "source": [
    "ax = threshold_df_coc.plot(figsize=(15,9))\n",
    "ax.set_xlabel('Threshold')\n",
    "ax.set_title('Precision-Recall vs. Threshold')\n",
    "ax.axvline(0.217, color='black', alpha=0.3)\n",
    "ax.text(.225,.55,'Optimal Threshold F0.5',rotation=90, alpha=0.8, fontsize=14)\n"
   ]
  },
  {
   "cell_type": "code",
   "execution_count": 142,
   "id": "10917bff",
   "metadata": {},
   "outputs": [
    {
     "data": {
      "image/png": "[encoded data removed]",
      "text/plain": [
       "<Figure size 432x288 with 2 Axes>"
      ]
     },
     "metadata": {
      "needs_background": "light"
     },
     "output_type": "display_data"
    }
   ],
   "source": [
    "cm = confusion_matrix(y_test.cocaine, rfc_coc.predict(X_test))\n",
    "disp = ConfusionMatrixDisplay(confusion_matrix=cm)\n",
    "disp.plot()\n",
    "plt.show()"
   ]
  },
  {
   "cell_type": "markdown",
   "id": "d069c225",
   "metadata": {},
   "source": [
    "We can see that although the ROCAUC score is almost 0.73, this is quite misleading as the model does not do much learning. It simply labeled everyone as a non user. So far, none of our models have been performing particularly well. Let us see if we can see something different when modeling for benzodiazepine use."
   ]
  },
  {
   "cell_type": "markdown",
   "id": "0b4340a7",
   "metadata": {},
   "source": [
    "## Benzodiazepine Prediction Model\n",
    "\n",
    "### Logistic Regression\n",
    "\n",
    "Again, we will be following the same process as before for each model, where we first test the model without any hyperparameter tuning, and then with tuning. "
   ]
  },
  {
   "cell_type": "code",
   "execution_count": 143,
   "id": "75dcd5cf",
   "metadata": {},
   "outputs": [
    {
     "data": {
      "text/plain": [
       "0.7770406949071871"
      ]
     },
     "execution_count": 143,
     "metadata": {},
     "output_type": "execute_result"
    }
   ],
   "source": [
    "lr = LogisticRegression()\n",
    "lr.fit(X_train, y_train.benzos)\n",
    "y_pred = lr.predict_proba(X_test)[:,1]\n",
    "roc_auc_score(y_test.benzos, y_pred)"
   ]
  },
  {
   "cell_type": "code",
   "execution_count": 144,
   "id": "3ae13df6",
   "metadata": {},
   "outputs": [
    {
     "name": "stdout",
     "output_type": "stream",
     "text": [
      "Best parameters:  {'C': 1}\n",
      "Best score:  0.771071345553563\n"
     ]
    }
   ],
   "source": [
    "lr = LogisticRegression()\n",
    "params_lr = {'C': [0.0001, 0.001, 0.1, 1, 10, 100]} \n",
    "\n",
    "gs_lr_ben = GridSearchCV(lr, param_grid=params_lr, scoring='roc_auc', cv=5)\n",
    "gs_lr_ben.fit(X_train, y_train.benzos)\n",
    "\n",
    "print('Best parameters: ', gs_lr_ben.best_params_)\n",
    "print('Best score: ', gs_lr_ben.best_score_ ) "
   ]
  },
  {
   "cell_type": "code",
   "execution_count": 145,
   "id": "44a0752b",
   "metadata": {},
   "outputs": [
    {
     "data": {
      "text/plain": [
       "0.7770406949071871"
      ]
     },
     "execution_count": 145,
     "metadata": {},
     "output_type": "execute_result"
    }
   ],
   "source": [
    "#Initialize new LogisticRegression object, using the optimal C-vlaue\n",
    "lr_ben = LogisticRegression(C = gs_lr_ben.best_params_['C'])\n",
    "lr_ben.fit(X_train, y_train.benzos)\n",
    "y_pred_lr_ben = lr_ben.predict_proba(X_test)[:,1]\n",
    "\n",
    "roc_auc_score(y_test.benzos, y_pred_lr_ben)"
   ]
  },
  {
   "cell_type": "markdown",
   "id": "f8b073c1",
   "metadata": {},
   "source": [
    "### Random Forest"
   ]
  },
  {
   "cell_type": "code",
   "execution_count": 146,
   "id": "7d9ad6ba",
   "metadata": {},
   "outputs": [
    {
     "data": {
      "text/plain": [
       "0.7779926225606855"
      ]
     },
     "execution_count": 146,
     "metadata": {},
     "output_type": "execute_result"
    }
   ],
   "source": [
    "rfc = RandomForestClassifier(random_state = 21)\n",
    "rfc.fit(X_train, y_train.benzos)\n",
    "y_pred = rfc.predict_proba(X_test)[:,1]\n",
    "roc_auc_score(y_test.benzos, y_pred)"
   ]
  },
  {
   "cell_type": "code",
   "execution_count": 147,
   "id": "c216d638",
   "metadata": {},
   "outputs": [
    {
     "data": {
      "text/plain": [
       "GridSearchCV(cv=3, estimator=RandomForestClassifier(),\n",
       "             param_grid={'bootstrap': [True, False],\n",
       "                         'max_depth': [10, 20, 30, 40, 50, 60, 70, 80, 90, 100,\n",
       "                                       110, 120],\n",
       "                         'max_features': ['auto', 'sqrt'],\n",
       "                         'min_samples_leaf': [1, 3, 4],\n",
       "                         'min_samples_split': [2, 6, 10],\n",
       "                         'n_estimators': [20, 50, 100]},\n",
       "             scoring='roc_auc')"
      ]
     },
     "execution_count": 147,
     "metadata": {},
     "output_type": "execute_result"
    }
   ],
   "source": [
    "rfc = RandomForestClassifier()\n",
    "gs_rfc_ben = GridSearchCV(rfc, param_grid=params_rfc, scoring='roc_auc', cv=3)\n",
    "gs_rfc_ben.fit(X_train, y_train.benzos)"
   ]
  },
  {
   "cell_type": "code",
   "execution_count": 148,
   "id": "c9951b1f",
   "metadata": {},
   "outputs": [
    {
     "data": {
      "text/plain": [
       "{'bootstrap': True,\n",
       " 'max_depth': 20,\n",
       " 'max_features': 'sqrt',\n",
       " 'min_samples_leaf': 4,\n",
       " 'min_samples_split': 10,\n",
       " 'n_estimators': 100}"
      ]
     },
     "execution_count": 148,
     "metadata": {},
     "output_type": "execute_result"
    }
   ],
   "source": [
    "gs_rfc_ben.best_params_"
   ]
  },
  {
   "cell_type": "code",
   "execution_count": 149,
   "id": "31e01bc3",
   "metadata": {},
   "outputs": [
    {
     "data": {
      "text/plain": [
       "0.7854890528319848"
      ]
     },
     "execution_count": 149,
     "metadata": {},
     "output_type": "execute_result"
    }
   ],
   "source": [
    "rfc_ben = RandomForestClassifier(bootstrap = gs_rfc_ben.best_params_['bootstrap'], \n",
    "                                 max_depth = gs_rfc_ben.best_params_['max_depth'], \n",
    "                                 max_features = gs_rfc_ben.best_params_['max_features'], \n",
    "                                 min_samples_leaf = gs_rfc_ben.best_params_['min_samples_leaf'],\n",
    "                                 min_samples_split = gs_rfc_ben.best_params_['min_samples_split'], \n",
    "                                 n_estimators = gs_rfc_ben.best_params_['n_estimators'], \n",
    "                                 random_state = 21)\n",
    "rfc_ben.fit(X_train, y_train.benzos)\n",
    "y_pred_rfc_ben = rfc_ben.predict_proba(X_test)[:,1]\n",
    "\n",
    "roc_auc_score(y_test.benzos, y_pred_rfc_ben)"
   ]
  },
  {
   "cell_type": "markdown",
   "id": "2c367884",
   "metadata": {},
   "source": [
    "### K-Nearest Neighbors"
   ]
  },
  {
   "cell_type": "code",
   "execution_count": 150,
   "id": "00ab9f88",
   "metadata": {},
   "outputs": [
    {
     "data": {
      "text/plain": [
       "0.6948625654450262"
      ]
     },
     "execution_count": 150,
     "metadata": {},
     "output_type": "execute_result"
    }
   ],
   "source": [
    "knn = KNeighborsClassifier()\n",
    "knn.fit(X_train, y_train.benzos)\n",
    "y_pred = knn.predict_proba(X_test)[:,1]\n",
    "roc_auc_score(y_test.benzos, y_pred)"
   ]
  },
  {
   "cell_type": "code",
   "execution_count": 151,
   "id": "8bbfae66",
   "metadata": {},
   "outputs": [
    {
     "data": {
      "text/plain": [
       "GridSearchCV(cv=5, estimator=KNeighborsClassifier(),\n",
       "             param_grid={'n_neighbors': array([ 1,  2,  3,  4,  5,  6,  7,  8,  9, 10, 11, 12, 13, 14, 15, 16, 17,\n",
       "       18, 19, 20, 21, 22, 23, 24, 25, 26, 27, 28, 29, 30, 31, 32, 33, 34,\n",
       "       35, 36, 37, 38, 39, 40, 41, 42, 43, 44, 45, 46, 47, 48, 49])})"
      ]
     },
     "execution_count": 151,
     "metadata": {},
     "output_type": "execute_result"
    }
   ],
   "source": [
    "#create new a knn model\n",
    "knn = KNeighborsClassifier()\n",
    "#create a dictionary of all values we want to test for n_neighbors\n",
    "param_grid = {'n_neighbors': np.arange(1, 50)}\n",
    "#use gridsearch to test all values for n_neighbors\n",
    "gs_knn_ben = GridSearchCV(knn, param_grid, cv=5)\n",
    "#fit model to data\n",
    "gs_knn_ben.fit(X_train, y_train.benzos)"
   ]
  },
  {
   "cell_type": "code",
   "execution_count": 152,
   "id": "ebfbd188",
   "metadata": {},
   "outputs": [
    {
     "data": {
      "text/plain": [
       "{'n_neighbors': 44}"
      ]
     },
     "execution_count": 152,
     "metadata": {},
     "output_type": "execute_result"
    }
   ],
   "source": [
    "gs_knn_ben.best_params_"
   ]
  },
  {
   "cell_type": "code",
   "execution_count": 153,
   "id": "12cbf0fb",
   "metadata": {},
   "outputs": [
    {
     "data": {
      "text/plain": [
       "0.703529411764706"
      ]
     },
     "execution_count": 153,
     "metadata": {},
     "output_type": "execute_result"
    }
   ],
   "source": [
    "knn_coc = KNeighborsClassifier(n_neighbors=gs_knn_ben.best_params_['n_neighbors'])\n",
    "knn_coc.fit(X_train, y_train.cocaine)\n",
    "y_pred_knn_ben = knn_coc.predict_proba(X_test)[:,1]\n",
    "roc_auc_score(y_test.cocaine, y_pred_knn_ben)"
   ]
  },
  {
   "cell_type": "markdown",
   "id": "4f6ad2f1",
   "metadata": {},
   "source": [
    "Again, Random Forest seems to be our best model. Let's take a closer look at the performance, similar to before. "
   ]
  },
  {
   "cell_type": "markdown",
   "id": "9bba7210",
   "metadata": {},
   "source": [
    "### Benzodiazapine Final Model"
   ]
  },
  {
   "cell_type": "code",
   "execution_count": 154,
   "id": "a4a1f253",
   "metadata": {},
   "outputs": [
    {
     "name": "stdout",
     "output_type": "stream",
     "text": [
      "              precision    recall  f1-score   support\n",
      "\n",
      "           0       0.82      0.99      0.90       382\n",
      "           1       0.70      0.08      0.14        88\n",
      "\n",
      "    accuracy                           0.82       470\n",
      "   macro avg       0.76      0.54      0.52       470\n",
      "weighted avg       0.80      0.82      0.76       470\n",
      "\n"
     ]
    }
   ],
   "source": [
    "print(classification_report(y_test.benzos, rfc_ben.predict(X_test)))"
   ]
  },
  {
   "cell_type": "code",
   "execution_count": 155,
   "id": "e2a44ff2",
   "metadata": {},
   "outputs": [],
   "source": [
    "threshold_df_ben = pd.DataFrame(columns=['Precision','Recall','F0.5_measure'])\n",
    "\n",
    "for threshold in sorted(set(rfc_ben.predict_proba(X_test)[:,1])):\n",
    "    threshold_df_ben.loc[threshold] = precision_recall(rfc_ben, X_test, y_test.benzos, threshold)"
   ]
  },
  {
   "cell_type": "code",
   "execution_count": 161,
   "id": "82da8e20",
   "metadata": {},
   "outputs": [
    {
     "data": {
      "text/plain": [
       "Text(0.29, 0.55, 'Optimal Threshold F0.5')"
      ]
     },
     "execution_count": 161,
     "metadata": {},
     "output_type": "execute_result"
    },
    {
     "data": {
      "image/png": "[encoded data removed]",
      "text/plain": [
       "<Figure size 1080x648 with 1 Axes>"
      ]
     },
     "metadata": {
      "needs_background": "light"
     },
     "output_type": "display_data"
    }
   ],
   "source": [
    "ax = threshold_df_ben.plot(figsize=(15,9))\n",
    "ax.set_xlabel('Threshold')\n",
    "ax.set_title('Precision-Recall vs. Threshold')\n",
    "ax.axvline(0.277, color='black', alpha=0.3)\n",
    "ax.text(.29,.55,'Optimal Threshold F0.5',rotation=90, alpha=0.8, fontsize=14)\n"
   ]
  },
  {
   "cell_type": "code",
   "execution_count": 162,
   "id": "74f922ef",
   "metadata": {},
   "outputs": [
    {
     "data": {
      "image/png": "[encoded data removed]",
      "text/plain": [
       "<Figure size 432x288 with 2 Axes>"
      ]
     },
     "metadata": {
      "needs_background": "light"
     },
     "output_type": "display_data"
    }
   ],
   "source": [
    "cm = confusion_matrix(y_test.benzos, rfc_ben.predict(X_test))\n",
    "disp = ConfusionMatrixDisplay(confusion_matrix=cm)\n",
    "disp.plot()\n",
    "plt.show()"
   ]
  },
  {
   "cell_type": "markdown",
   "id": "9027a791",
   "metadata": {},
   "source": [
    "This seems to be our best model thus far. We have 379 non users correctly labeled and 7 users correctly labeled. 81 users were incorrectly labeled and 3 non users were incorrectly labeled. "
   ]
  }
 ],
 "metadata": {
  "kernelspec": {
   "display_name": "Python 3",
   "language": "python",
   "name": "python3"
  },
  "language_info": {
   "codemirror_mode": {
    "name": "ipython",
    "version": 3
   },
   "file_extension": ".py",
   "mimetype": "text/x-python",
   "name": "python",
   "nbconvert_exporter": "python",
   "pygments_lexer": "ipython3",
   "version": "3.8.8"
  }
 },
 "nbformat": 4,
 "nbformat_minor": 5
}
